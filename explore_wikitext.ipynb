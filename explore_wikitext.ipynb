{
 "cells": [
  {
   "cell_type": "code",
   "execution_count": null,
   "metadata": {},
   "outputs": [],
   "source": [
    "import compyute as cp"
   ]
  },
  {
   "cell_type": "code",
   "execution_count": null,
   "metadata": {},
   "outputs": [],
   "source": [
    "from tokenizers import Tokenizer\n",
    "\n",
    "tokenizer = Tokenizer.from_file(\"experiments/wikitext/wikitext_103_tokenizer_8192.json\")"
   ]
  },
  {
   "cell_type": "code",
   "execution_count": null,
   "metadata": {},
   "outputs": [],
   "source": [
    "vocab_size = 8192\n",
    "block_size = 1024\n",
    "embed_dims = 384\n",
    "device = cp.cuda"
   ]
  },
  {
   "cell_type": "code",
   "execution_count": null,
   "metadata": {},
   "outputs": [],
   "source": [
    "from transformer.gpt import GPTTransformer\n",
    "from transformer.attention_funcs import get_causal_mask\n",
    "\n",
    "mask = get_causal_mask((block_size, block_size))\n",
    "\n",
    "model = GPTTransformer(\n",
    "    n_embeddings=vocab_size,\n",
    "    embedding_dim=embed_dims,\n",
    "    ffwd_channels=4 * embed_dims,\n",
    "    n_heads=6,\n",
    "    n_blocks=6,\n",
    "    max_seq_len=block_size,\n",
    "    mask=mask,\n",
    ")\n",
    "model.to_device(device)\n",
    "state_dict = cp.load(\"experiments/wikitext/transformer_wikitext_103_1_7500.cp\")\n",
    "model.load_state_dict(state_dict[\"model\"])"
   ]
  },
  {
   "cell_type": "code",
   "execution_count": null,
   "metadata": {},
   "outputs": [],
   "source": [
    "context = \"America was discovered by Christoph Columbus in the year \"\n",
    "print(context, end=\"\")\n",
    "\n",
    "context = cp.tensor(tokenizer.encode(context).ids, dtype=cp.int32)  # encode context\n",
    "context = context.view((1, -1)).to_device(model.device)\n",
    "\n",
    "for _ in range(50):\n",
    "    logits = model(context)[0, -1].to_cpu()  # get logits\n",
    "    probs = cp.nn.functional.softmax(logits)  # convert to probs\n",
    "    index = cp.random.multinomial(x=len(probs), p=probs, shape=(1,))  # sample\n",
    "    char = tokenizer.decode([index.item()])\n",
    "    print(char, end=\"\")\n",
    "    context = cp.append(context, values=cp.reshape(index, shape=(1, 1)), dim=1).to_int()  # append to context\n",
    "    context = context[:, -block_size:].to_device(device)"
   ]
  }
 ],
 "metadata": {
  "kernelspec": {
   "display_name": ".venv",
   "language": "python",
   "name": "python3"
  },
  "language_info": {
   "codemirror_mode": {
    "name": "ipython",
    "version": 3
   },
   "file_extension": ".py",
   "mimetype": "text/x-python",
   "name": "python",
   "nbconvert_exporter": "python",
   "pygments_lexer": "ipython3",
   "version": "3.12.6"
  }
 },
 "nbformat": 4,
 "nbformat_minor": 2
}
