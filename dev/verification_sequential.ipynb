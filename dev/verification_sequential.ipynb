{
 "cells": [
  {
   "cell_type": "markdown",
   "metadata": {},
   "source": [
    "# MHA Sequential Implementaton Verification\n",
    "\n",
    "Comparison against Pytorch to verify the correct implementation"
   ]
  },
  {
   "cell_type": "code",
   "execution_count": 1,
   "metadata": {},
   "outputs": [],
   "source": [
    "import compyute as cp\n",
    "import numpy as np\n",
    "import torch\n",
    "\n",
    "cp.random.set_seed(42)\n",
    "tol = 1e-5 # stacking floating point errors due to lots of computation"
   ]
  },
  {
   "cell_type": "code",
   "execution_count": 2,
   "metadata": {},
   "outputs": [],
   "source": [
    "B, T, C, H = 16, 256, 384, 6\n",
    "x = cp.random.uniform((B, T, C), dtype=cp.float32)\n",
    "x_torch = torch.tensor(x.to_numpy(), requires_grad=True)"
   ]
  },
  {
   "cell_type": "code",
   "execution_count": 3,
   "metadata": {},
   "outputs": [],
   "source": [
    "from mha_sequential import SequentialMHA\n",
    "\n",
    "mha = SequentialMHA(in_channels=C, n_heads=H, bias=False)\n",
    "mha_torch = torch.nn.MultiheadAttention(C, H, bias=False, batch_first=True)"
   ]
  },
  {
   "cell_type": "code",
   "execution_count": 4,
   "metadata": {},
   "outputs": [],
   "source": [
    "# PyTorch implements MHA as a batched matrix multiplication, they therefore only have one\n",
    "# input proj matrix containing queries, keys and values for all heads\n",
    "in_proj_weights = cp.concat([\n",
    "    mha.heads[0].q_proj.w,\n",
    "    mha.heads[1].q_proj.w,\n",
    "    mha.heads[2].q_proj.w,\n",
    "    mha.heads[3].q_proj.w,\n",
    "    mha.heads[4].q_proj.w,\n",
    "    mha.heads[5].q_proj.w,\n",
    "    mha.heads[0].k_proj.w,\n",
    "    mha.heads[1].k_proj.w,\n",
    "    mha.heads[2].k_proj.w,\n",
    "    mha.heads[3].k_proj.w,\n",
    "    mha.heads[4].k_proj.w,\n",
    "    mha.heads[5].k_proj.w,\n",
    "    mha.heads[0].v_proj.w,\n",
    "    mha.heads[1].v_proj.w,\n",
    "    mha.heads[2].v_proj.w,\n",
    "    mha.heads[3].v_proj.w,\n",
    "    mha.heads[4].v_proj.w,\n",
    "    mha.heads[5].v_proj.w\n",
    "], dim=0)\n",
    "out_proj_weights = mha.out_proj.w\n",
    "\n",
    "mha_torch.in_proj_weight = torch.nn.Parameter(torch.tensor(in_proj_weights.to_numpy()))\n",
    "mha_torch.out_proj.weight = torch.nn.Parameter(torch.tensor(out_proj_weights.to_numpy()))\n",
    "\n",
    "# forward pass\n",
    "out = mha(x)\n",
    "out_torch, _ = mha_torch(x_torch, x_torch, x_torch, need_weights=False)"
   ]
  },
  {
   "cell_type": "markdown",
   "metadata": {},
   "source": [
    "Check if outputs match Pytorch"
   ]
  },
  {
   "cell_type": "code",
   "execution_count": 5,
   "metadata": {},
   "outputs": [
    {
     "data": {
      "text/plain": [
       "True"
      ]
     },
     "execution_count": 5,
     "metadata": {},
     "output_type": "execute_result"
    }
   ],
   "source": [
    "np.allclose(\n",
    "    out.to_numpy(),\n",
    "    out_torch.detach().numpy(),\n",
    "    atol=tol,\n",
    "    rtol=tol\n",
    ")"
   ]
  },
  {
   "cell_type": "code",
   "execution_count": 6,
   "metadata": {},
   "outputs": [],
   "source": [
    "# backward pass\n",
    "dy = cp.random.normal(out.shape)\n",
    "dx = mha.backward(dy)\n",
    "out_torch.backward(torch.tensor(dy.to_numpy()))"
   ]
  },
  {
   "cell_type": "markdown",
   "metadata": {},
   "source": [
    "Check if input gradients match Pytorch"
   ]
  },
  {
   "cell_type": "code",
   "execution_count": 7,
   "metadata": {},
   "outputs": [
    {
     "data": {
      "text/plain": [
       "True"
      ]
     },
     "execution_count": 7,
     "metadata": {},
     "output_type": "execute_result"
    }
   ],
   "source": [
    "np.allclose(\n",
    "    dx.to_numpy(),\n",
    "    x_torch.grad.detach().numpy(),\n",
    "    atol=tol,\n",
    "    rtol=tol\n",
    ")"
   ]
  },
  {
   "cell_type": "markdown",
   "metadata": {},
   "source": [
    "Check if input projection gradients match Pytorch"
   ]
  },
  {
   "cell_type": "code",
   "execution_count": 8,
   "metadata": {},
   "outputs": [
    {
     "data": {
      "text/plain": [
       "True"
      ]
     },
     "execution_count": 8,
     "metadata": {},
     "output_type": "execute_result"
    }
   ],
   "source": [
    "in_proj_weight_grads = cp.concat([\n",
    "    mha.heads[0].q_proj.w.grad,\n",
    "    mha.heads[1].q_proj.w.grad,\n",
    "    mha.heads[2].q_proj.w.grad,\n",
    "    mha.heads[3].q_proj.w.grad,\n",
    "    mha.heads[4].q_proj.w.grad,\n",
    "    mha.heads[5].q_proj.w.grad,\n",
    "    mha.heads[0].k_proj.w.grad,\n",
    "    mha.heads[1].k_proj.w.grad,\n",
    "    mha.heads[2].k_proj.w.grad,\n",
    "    mha.heads[3].k_proj.w.grad,\n",
    "    mha.heads[4].k_proj.w.grad,\n",
    "    mha.heads[5].k_proj.w.grad,\n",
    "    mha.heads[0].v_proj.w.grad,\n",
    "    mha.heads[1].v_proj.w.grad,\n",
    "    mha.heads[2].v_proj.w.grad,\n",
    "    mha.heads[3].v_proj.w.grad,\n",
    "    mha.heads[4].v_proj.w.grad,\n",
    "    mha.heads[5].v_proj.w.grad\n",
    "], dim=0)\n",
    "\n",
    "np.allclose(\n",
    "    in_proj_weight_grads.to_numpy(),\n",
    "    mha_torch.in_proj_weight.grad.detach().numpy(),\n",
    "    atol=tol,\n",
    "    rtol=tol\n",
    ")"
   ]
  },
  {
   "cell_type": "markdown",
   "metadata": {},
   "source": [
    "Check if output projection gradients match Pytorch"
   ]
  },
  {
   "cell_type": "code",
   "execution_count": 9,
   "metadata": {},
   "outputs": [
    {
     "data": {
      "text/plain": [
       "True"
      ]
     },
     "execution_count": 9,
     "metadata": {},
     "output_type": "execute_result"
    }
   ],
   "source": [
    "np.allclose(\n",
    "    mha.out_proj.w.grad.to_numpy(),\n",
    "    mha_torch.out_proj.weight.grad.detach().numpy(),\n",
    "    atol=tol,\n",
    "    rtol=tol\n",
    ")"
   ]
  }
 ],
 "metadata": {
  "kernelspec": {
   "display_name": "Python 3",
   "language": "python",
   "name": "python3"
  },
  "language_info": {
   "codemirror_mode": {
    "name": "ipython",
    "version": 3
   },
   "file_extension": ".py",
   "mimetype": "text/x-python",
   "name": "python",
   "nbconvert_exporter": "python",
   "pygments_lexer": "ipython3",
   "version": "3.12.8"
  },
  "orig_nbformat": 4
 },
 "nbformat": 4,
 "nbformat_minor": 2
}
