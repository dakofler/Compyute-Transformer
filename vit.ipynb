{
 "cells": [
  {
   "cell_type": "code",
   "execution_count": null,
   "metadata": {},
   "outputs": [],
   "source": [
    "import random\n",
    "import compyute as cp"
   ]
  },
  {
   "cell_type": "code",
   "execution_count": null,
   "metadata": {
    "slideshow": {
     "slide_type": "slide"
    }
   },
   "outputs": [],
   "source": [
    "device = cp.cuda if cp.backend.gpu_available() else cp.cpu\n",
    "device"
   ]
  },
  {
   "cell_type": "code",
   "execution_count": null,
   "metadata": {},
   "outputs": [],
   "source": [
    "# ! pip install pandas"
   ]
  },
  {
   "cell_type": "code",
   "execution_count": null,
   "metadata": {},
   "outputs": [],
   "source": [
    "import pandas as pd\n",
    "\n",
    "data = pd.read_csv('data/cifar10/train.csv')\n",
    "data.head()"
   ]
  },
  {
   "cell_type": "code",
   "execution_count": null,
   "metadata": {},
   "outputs": [],
   "source": [
    "tensor = cp.tensor(data.to_numpy())\n",
    "train, val, test = cp.preprocessing.split_train_val_test(tensor, ratio_val=0.1, ratio_test=0.1)"
   ]
  },
  {
   "cell_type": "code",
   "execution_count": null,
   "metadata": {},
   "outputs": [],
   "source": [
    "X_train, y_train = train[:, 1:], train[:, 0].to_int()\n",
    "X_val, y_val = val[:, 1:], val[:, 0].to_int()\n",
    "X_test, y_test = test[:, 1:], test[:, 0].to_int()"
   ]
  },
  {
   "cell_type": "code",
   "execution_count": null,
   "metadata": {},
   "outputs": [],
   "source": [
    "X_train = cp.reshape(X_train, shape=(X_train.shape[0], 3 , 32, -1)).to_int()\n",
    "X_val = cp.reshape(X_val, shape=(X_val.shape[0], 3, 32, -1)).to_int()\n",
    "X_test = cp.reshape(X_test, shape=(X_test.shape[0], 3, 32, -1)).to_int()"
   ]
  },
  {
   "cell_type": "code",
   "execution_count": null,
   "metadata": {},
   "outputs": [],
   "source": [
    "import matplotlib.pyplot as plt\n",
    "\n",
    "plt.imshow(cp.movedim(X_train[0], 0, -1))"
   ]
  },
  {
   "attachments": {},
   "cell_type": "markdown",
   "metadata": {},
   "source": [
    "Scaling"
   ]
  },
  {
   "cell_type": "code",
   "execution_count": null,
   "metadata": {},
   "outputs": [],
   "source": [
    "X_train = X_train.to_float() / 255.0\n",
    "X_val = X_val.to_float() / 255.0\n",
    "X_test = X_test.to_float() / 255.0"
   ]
  },
  {
   "cell_type": "code",
   "execution_count": null,
   "metadata": {},
   "outputs": [],
   "source": [
    "from compyute import nn\n",
    "from transformer.vit import VisionTransformer\n",
    "\n",
    "model = VisionTransformer(\n",
    "    in_channels=3,\n",
    "    image_size=32,\n",
    "    patch_size=4,\n",
    "    embedding_dim=384,\n",
    "    n_classes=10,\n",
    "    ffwd_channels=4*384,\n",
    "    n_heads=6,\n",
    "    n_blocks=6,\n",
    "    dropout=0.1\n",
    ")\n",
    "\n",
    "model.to_device(device)"
   ]
  },
  {
   "cell_type": "code",
   "execution_count": null,
   "metadata": {},
   "outputs": [],
   "source": [
    "summary = cp.nn.utils.get_module_summary(model, input_shape=(3, 32, 32))\n",
    "print(summary)"
   ]
  },
  {
   "cell_type": "code",
   "execution_count": null,
   "metadata": {},
   "outputs": [],
   "source": [
    "from compyute.nn.trainer import Trainer\n",
    "from compyute.nn.trainer.callbacks import History, ProgressBar\n",
    "\n",
    "history = History()\n",
    "\n",
    "trainer = Trainer(\n",
    "    model=model,\n",
    "    optimizer=nn.optimizers.Adam(lr=3e-4),\n",
    "    loss=nn.CrossEntropy(),\n",
    "    metric=nn.Accuracy(),\n",
    "    callbacks=[\n",
    "        history,\n",
    "        ProgressBar(mode=\"step\"),\n",
    "    ]\n",
    ")"
   ]
  },
  {
   "cell_type": "code",
   "execution_count": null,
   "metadata": {},
   "outputs": [],
   "source": [
    "epochs = 5\n",
    "batch_size = 128\n",
    "\n",
    "trainer.train(X_train, y_train, epochs=epochs, batch_size=batch_size, val_data=(X_val, y_val))"
   ]
  },
  {
   "cell_type": "code",
   "execution_count": null,
   "metadata": {},
   "outputs": [],
   "source": [
    "# ! pip install matplotlib"
   ]
  },
  {
   "cell_type": "code",
   "execution_count": null,
   "metadata": {},
   "outputs": [],
   "source": [
    "import matplotlib.pyplot as plt\n",
    "\n",
    "def plot_history(t1, t2):\n",
    "    trace1 = history[t1]\n",
    "    trace2 = history[t2]\n",
    "    plt.figure(figsize=(10, 3))\n",
    "    plt.plot(cp.arange(start=1, stop=len(trace1) + 1), trace1, linewidth=1)\n",
    "    plt.plot(cp.arange(start=1, stop=len(trace2) + 1), trace2, linewidth=1)\n",
    "\n",
    "plot_history(\"loss\", \"accuracy_score\")"
   ]
  },
  {
   "cell_type": "code",
   "execution_count": null,
   "metadata": {},
   "outputs": [],
   "source": [
    "loss, accuracy = trainer.evaluate_model(X_test, y_test, batch_size)\n",
    "print(f'loss {loss:.4f}')\n",
    "print(f'accuracy {accuracy*100:.2f}')"
   ]
  },
  {
   "cell_type": "code",
   "execution_count": null,
   "metadata": {},
   "outputs": [],
   "source": [
    "# ! pip install scikit-learn"
   ]
  },
  {
   "cell_type": "code",
   "execution_count": null,
   "metadata": {},
   "outputs": [],
   "source": [
    "from sklearn.metrics import confusion_matrix\n",
    "import numpy\n",
    "from compyute.nn.utils import batched\n",
    "\n",
    "y_pred = batched(model, batch_size, model.device, False)(X_test)\n",
    "probs = nn.functional.softmax(y_pred)\n",
    "\n",
    "cm = confusion_matrix(\n",
    "    y_true=y_test.to_numpy(),\n",
    "    y_pred=cp.argmax(probs, dim=-1).to_numpy(),\n",
    "    labels=cp.unique(y_test).to_numpy()\n",
    ")\n",
    "\n",
    "r = cp.arange(10).to_numpy()\n",
    "plt.imshow(cm, cmap=\"Blues\")\n",
    "plt.xlabel(\"prediction\")\n",
    "plt.ylabel(\"target\")\n",
    "plt.xticks(ticks=r, labels=r)\n",
    "plt.yticks(ticks=r, labels=r)\n",
    "for (j, i), label in numpy.ndenumerate(cm):\n",
    "    plt.text(i, j, str(int(label)), ha=\"center\", va=\"center\")"
   ]
  }
 ],
 "metadata": {
  "kernelspec": {
   "display_name": "Python 3 (ipykernel)",
   "language": "python",
   "name": "python3"
  },
  "language_info": {
   "codemirror_mode": {
    "name": "ipython",
    "version": 3
   },
   "file_extension": ".py",
   "mimetype": "text/x-python",
   "name": "python",
   "nbconvert_exporter": "python",
   "pygments_lexer": "ipython3",
   "version": "3.12.6"
  },
  "vscode": {
   "interpreter": {
    "hash": "deee277ef8cb4a05cf6441d551c854fa5e547ddedbca2c10e6f5685ea62b6c02"
   }
  }
 },
 "nbformat": 4,
 "nbformat_minor": 2
}
