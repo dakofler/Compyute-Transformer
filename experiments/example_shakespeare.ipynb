{
 "cells": [
  {
   "cell_type": "code",
   "execution_count": null,
   "metadata": {},
   "outputs": [],
   "source": [
    "import compyute as cp"
   ]
  },
  {
   "cell_type": "code",
   "execution_count": null,
   "metadata": {},
   "outputs": [],
   "source": [
    "device = \"cuda\" if cp.engine.gpu_available() else \"cpu\"\n",
    "device"
   ]
  },
  {
   "cell_type": "code",
   "execution_count": null,
   "metadata": {},
   "outputs": [],
   "source": [
    "cp.random.set_seed(1337)"
   ]
  },
  {
   "cell_type": "code",
   "execution_count": null,
   "metadata": {},
   "outputs": [],
   "source": [
    "with open(\"../data/tinyshakespeare.txt\", \"r\") as f:\n",
    "    data = f.read()"
   ]
  },
  {
   "cell_type": "code",
   "execution_count": null,
   "metadata": {},
   "outputs": [],
   "source": [
    "from compyute.preprocessing.text import CharacterTokenizer\n",
    "\n",
    "chars = sorted(list(set(data)))\n",
    "tokenizer = CharacterTokenizer()\n",
    "tokenizer.vocab = {i:c for i, c in enumerate(chars)}\n",
    "tokenizer.ivocab = {c:i for i, c in enumerate(chars)}\n",
    "tokenizer.vocab_size"
   ]
  },
  {
   "cell_type": "code",
   "execution_count": null,
   "metadata": {},
   "outputs": [],
   "source": [
    "data_enc = tokenizer.encode(data)\n",
    "len(data_enc)"
   ]
  },
  {
   "cell_type": "code",
   "execution_count": null,
   "metadata": {},
   "outputs": [],
   "source": [
    "block_size = 256"
   ]
  },
  {
   "cell_type": "code",
   "execution_count": null,
   "metadata": {},
   "outputs": [],
   "source": [
    "X = cp.stack([data_enc[i * block_size : i * block_size + block_size] for i in range(len(data_enc) // block_size)])\n",
    "y = cp.stack([data_enc[i * block_size + 1 : i * block_size + block_size + 1] for i in range(len(data_enc) // block_size)])\n",
    "\n",
    "n = int(len(X) * 0.9)\n",
    "X_train = X.to_int()[:n]\n",
    "y_train = y.to_int()[:n]\n",
    "X_val = X.to_int()[n:]\n",
    "y_val = y.to_int()[n:]\n",
    "\n",
    "print(f\"{X_train.shape=}\")\n",
    "print(f\"{y_train.shape=}\")\n",
    "print(f\"{X_val.shape=}\")\n",
    "print(f\"{y_val.shape=}\")"
   ]
  },
  {
   "cell_type": "code",
   "execution_count": null,
   "metadata": {},
   "outputs": [],
   "source": [
    "import compyute.nn as nn\n",
    "from transformer import Transformer, get_causal_mask"
   ]
  },
  {
   "cell_type": "code",
   "execution_count": null,
   "metadata": {},
   "outputs": [],
   "source": [
    "embed_dims = 384\n",
    "mask = get_causal_mask((block_size, block_size))\n",
    "\n",
    "model = Transformer(\n",
    "    n_embeddings=tokenizer.vocab_size,\n",
    "    embedding_dim=embed_dims,\n",
    "    feedforward_channels=4*embed_dims,\n",
    "    n_heads=6,\n",
    "    n_blocks=6,\n",
    "    sequence_length=block_size,\n",
    "    mask=mask\n",
    ")\n",
    "\n",
    "model.to_device(device)"
   ]
  },
  {
   "cell_type": "code",
   "execution_count": null,
   "metadata": {},
   "outputs": [],
   "source": [
    "summary = cp.nn.utils.get_module_summary(model, input_shape=(block_size,), input_dtype=cp.int32)\n",
    "print(summary)"
   ]
  },
  {
   "cell_type": "code",
   "execution_count": null,
   "metadata": {},
   "outputs": [],
   "source": [
    "batch_size = 64\n",
    "micro_batch_size = 32\n",
    "grad_accumulation_steps = batch_size // micro_batch_size\n",
    "\n",
    "val_interval = 200\n",
    "max_iter = 5000\n",
    "checkpoint_interal = 500\n",
    "step = 0\n",
    "\n",
    "train_dl = nn.utils.Dataloader(X_train, y_train, micro_batch_size, device=device)\n",
    "val_dl = nn.utils.Dataloader(X_val, y_val, micro_batch_size, device=device)\n",
    "loss_func = nn.CrossEntropy()\n",
    "optim = nn.optimizers.AdamW(model.get_parameters(), lr=3e-4)"
   ]
  },
  {
   "cell_type": "code",
   "execution_count": null,
   "metadata": {},
   "outputs": [],
   "source": [
    "from datetime import datetime\n",
    "import os\n",
    "\n",
    "from compyute.nn.utils.tensorboard import SummaryWriter\n",
    "\n",
    "# create tensorboard logging directory\n",
    "label = \"transformer_shakespeare\"\n",
    "timestamp = datetime.now().strftime('%Y-%m-%d_%H-%M-%S')\n",
    "logdir = f\"./runs/{label}_{timestamp}/\"\n",
    "if not os.path.exists(logdir):\n",
    "    os.makedirs(logdir)\n",
    "\n",
    "writer =  SummaryWriter(log_dir=logdir)\n",
    "loss = 0\n",
    "accum_step = 0\n",
    "\n",
    "while step < max_iter:\n",
    "    for x, y in train_dl():\n",
    "        accum_step += 1\n",
    "        \n",
    "        # training\n",
    "        with model.train():\n",
    "            # forward pass\n",
    "            y_pred = model(x)\n",
    "            loss += loss_func(y_pred, y).item() / grad_accumulation_steps\n",
    "\n",
    "            # backward pass\n",
    "            loss_grads = loss_func.backward() / grad_accumulation_steps # scale by grad accumulation steps\n",
    "            model.backward(loss_grads)  # compute new gradients\n",
    "                \n",
    "        if accum_step == grad_accumulation_steps:\n",
    "            optim.step()  # update parameters\n",
    "            optim.reset_grads()  # reset all gradients\n",
    "\n",
    "            writer.add_scalar(\"train/loss\", loss, step)\n",
    "\n",
    "            # validation\n",
    "            if step > 1 and step % val_interval == 0:\n",
    "                val_loss = 0\n",
    "                for x_val, y_val in val_dl():\n",
    "                    y_pred = model(x_val)\n",
    "                    val_loss += loss_func(y_pred, y_val).item()\n",
    "                val_loss /= len(val_dl)\n",
    "                writer.add_scalar(\"val/loss\", val_loss, step)\n",
    "\n",
    "            # save checkpoints\n",
    "            if step > 1 and step % checkpoint_interal == 0:\n",
    "                model_state = model.get_state_dict()\n",
    "                optim_state = optim.get_state_dict()\n",
    "                state_dict = {\"model\": model_state, \"optim\": optim_state}\n",
    "                checkpoint_name = f\"{label}_{step}.cp\"\n",
    "                cp.save(state_dict, checkpoint_name)\n",
    "\n",
    "            if step == max_iter:\n",
    "                break\n",
    "            step+= 1\n",
    "            loss = accum_step = 0"
   ]
  },
  {
   "cell_type": "code",
   "execution_count": null,
   "metadata": {},
   "outputs": [],
   "source": [
    "output = \"\"\n",
    "context = \"\\n\"\n",
    "print(context, end=\"\")\n",
    "\n",
    "context = cp.tensor(tokenizer.encode(context), dtype=cp.int32)  # encode context\n",
    "context = context.to_shape((1, -1)).to_device(model.device)\n",
    "\n",
    "for _ in range(500):\n",
    "    logits = model(context)[0, -1].to_cpu()  # get logits\n",
    "    probs, _ = cp.nn.functional.softmax(logits)  # convert to probs\n",
    "    topk_probs, topk_indices = cp.topk(probs, 50)  # get top 50 probs\n",
    "    topk_probs /= cp.sum(topk_probs)  # normalize probs\n",
    "    index = cp.random.multinomial(x=50, p=topk_probs, shape=(1,))  # sample\n",
    "    index = topk_indices[index]  # get token id\n",
    "    char = tokenizer.decode(index)\n",
    "    print(char, end=\"\")\n",
    "    output += char\n",
    "    context = cp.append(context, values=cp.reshape(index, shape=(1, 1)), axis=1).to_int()  # append to context\n",
    "    context = context[:, -block_size:].to_device(device)\n",
    "\n",
    "with open(\"transformer_shakespeare.txt\", \"w\") as f:\n",
    "    f.write(output)"
   ]
  },
  {
   "cell_type": "code",
   "execution_count": null,
   "metadata": {},
   "outputs": [],
   "source": []
  }
 ],
 "metadata": {
  "kernelspec": {
   "display_name": "Python 3",
   "language": "python",
   "name": "python3"
  },
  "language_info": {
   "codemirror_mode": {
    "name": "ipython",
    "version": 3
   },
   "file_extension": ".py",
   "mimetype": "text/x-python",
   "name": "python",
   "nbconvert_exporter": "python",
   "pygments_lexer": "ipython3",
   "version": "3.11.2"
  },
  "orig_nbformat": 4
 },
 "nbformat": 4,
 "nbformat_minor": 2
}
