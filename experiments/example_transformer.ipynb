{
 "cells": [
  {
   "cell_type": "code",
   "execution_count": null,
   "metadata": {},
   "outputs": [],
   "source": [
    "import compyute as cp"
   ]
  },
  {
   "cell_type": "code",
   "execution_count": null,
   "metadata": {},
   "outputs": [],
   "source": [
    "device = \"cuda\" if cp.engine.gpu_available() else \"cpu\"\n",
    "device"
   ]
  },
  {
   "cell_type": "markdown",
   "metadata": {},
   "source": [
    "# Example 5.3\n",
    "\n",
    "### Language Model: LSTM\n",
    "\n",
    "A dense neural network is not able to capture the sequential and time-dependent character of text. An alternative is the LSTM, which is able to memorize past tokens.\n",
    "\n",
    "### Step 1: Prepare data\n",
    "Again, the tinyshakespeare dataset is used. (https://raw.githubusercontent.com/karpathy/char-rnn/master/data/tinyshakespeare/input.txt)"
   ]
  },
  {
   "cell_type": "code",
   "execution_count": null,
   "metadata": {},
   "outputs": [],
   "source": [
    "with open(\"../data/tinyshakespeare.txt\", \"r\") as f:\n",
    "    data = f.read()"
   ]
  },
  {
   "cell_type": "markdown",
   "metadata": {},
   "source": [
    "### Step 2: Tokenization"
   ]
  },
  {
   "cell_type": "code",
   "execution_count": null,
   "metadata": {},
   "outputs": [],
   "source": [
    "from compyute.preprocessing.text import BPETokenizer, save_tokenizer, load_tokenizer\n",
    "\n",
    "# tokenizer = BPETokenizer()\n",
    "# tokenizer.fit(data, vocab_size=512)\n",
    "\n",
    "# save_tokenizer(tokenizer, \"nn_tokenizer.cp\")\n",
    "tokenizer = load_tokenizer(\"nn_tokenizer.cp\")\n",
    "\n",
    "tokenizer.vocab_size"
   ]
  },
  {
   "cell_type": "code",
   "execution_count": null,
   "metadata": {},
   "outputs": [],
   "source": [
    "data_enc = tokenizer.encode(data)\n",
    "len(data_enc)"
   ]
  },
  {
   "cell_type": "markdown",
   "metadata": {},
   "source": [
    "### Step 3: Build dataset"
   ]
  },
  {
   "cell_type": "code",
   "execution_count": null,
   "metadata": {},
   "outputs": [],
   "source": [
    "block_size = 16"
   ]
  },
  {
   "cell_type": "code",
   "execution_count": null,
   "metadata": {},
   "outputs": [],
   "source": [
    "X = cp.stack([data_enc[i : i + block_size] for i in range(len(data_enc) - block_size)])\n",
    "y = cp.tensor([data_enc[i + 1 : i + 1 + block_size] for i in range(len(data_enc) - block_size)])\n",
    "\n",
    "n = int(len(X) * 0.99)\n",
    "\n",
    "X_train = X.int()[:n]\n",
    "y_train = y.int()[:n]\n",
    "X_val = X.int()[n:]\n",
    "y_val = y.int()[n:]\n",
    "\n",
    "print(f\"{X_train.shape=}\")\n",
    "print(f\"{y_train.shape=}\")\n",
    "print(f\"{X_val.shape=}\")\n",
    "print(f\"{y_val.shape=}\")"
   ]
  },
  {
   "cell_type": "markdown",
   "metadata": {},
   "source": [
    "### Step 4: Build the neural network structure\n",
    "\n",
    "Now, `LSTM`-layers are used, followed by a dense layer."
   ]
  },
  {
   "cell_type": "code",
   "execution_count": null,
   "metadata": {},
   "outputs": [],
   "source": [
    "import compyute.nn as nn\n",
    "from transformer.transformer import Transformer\n",
    "\n",
    "embed_dims = 128\n",
    "mask = cp.triu(cp.full(shape=(block_size, block_size), value=float(\"-inf\")), d=1)\n",
    "\n",
    "model = Transformer(\n",
    "    vocab_size=tokenizer.vocab_size,\n",
    "    emb_dim=embed_dims,\n",
    "    ffd_dim=4*embed_dims,\n",
    "    n_heads=2,\n",
    "    n_layers=1,\n",
    "    sequence_length=block_size,\n",
    "    mask=mask,\n",
    "    dropout=0.2\n",
    ")\n",
    "\n",
    "model.to_device(device)"
   ]
  },
  {
   "cell_type": "code",
   "execution_count": null,
   "metadata": {},
   "outputs": [],
   "source": [
    "summary = model.get_summary(input_shape=(block_size,), input_dtype=\"int32\")\n",
    "print(summary)"
   ]
  },
  {
   "cell_type": "markdown",
   "metadata": {},
   "source": [
    "### Step 5: Train the model"
   ]
  },
  {
   "cell_type": "code",
   "execution_count": null,
   "metadata": {},
   "outputs": [],
   "source": [
    "batch_size = 4096\n",
    "\n",
    "train_dl = nn.DataLoader(X_train, y_train, batch_size, device=device)\n",
    "val_dl = nn.DataLoader(X_val, y_val, batch_size, device=device)\n",
    "loss_func = nn.CrossEntropy()\n",
    "optim = nn.optimizers.AdamW(model.parameters, lr=3e-4)\n",
    "val_interval = 250\n",
    "\n",
    "step = 1\n",
    "for x, y in train_dl():\n",
    "    # training\n",
    "    with model.training():\n",
    "        # forward pass\n",
    "        y_pred = model(x)\n",
    "        loss = loss_func(y_pred, y).item()\n",
    "        print(f\"step {step}: {loss=:.4f}\", end=\"\\r\")\n",
    "\n",
    "        # backward pass\n",
    "        optim.reset_grads()  # reset all gradients\n",
    "        model.backward(loss_func.backward())  # compute new gradients\n",
    "        optim.step()  # update parameters\n",
    "\n",
    "    # validation\n",
    "    if step % val_interval == 0:\n",
    "        val_loss = 0\n",
    "        for x_val, y_val in val_dl():\n",
    "            y_pred = model(x_val)\n",
    "            val_loss += loss_func(y_pred, y_val).item()\n",
    "        val_loss /= len(val_dl)\n",
    "        print(f\"step {step}: {val_loss=:.4f}\")\n",
    "\n",
    "    step += 1"
   ]
  },
  {
   "cell_type": "code",
   "execution_count": null,
   "metadata": {},
   "outputs": [],
   "source": [
    "from compyute.nn import optimizers\n",
    "from compyute.nn.trainer import Trainer\n",
    "from compyute.nn.trainer.callbacks import History, ProgressBar\n",
    "from compyute.nn.trainer.callbacks.lr_schedulers import CosineAnnealingLrScheduler\n",
    "\n",
    "optim = optimizers.AdamW(lr=3e-4)\n",
    "history = History()\n",
    "pbar = ProgressBar(mode=\"step\")\n",
    "\n",
    "trainer = Trainer(\n",
    "    model=model,\n",
    "    optimizer=optim,\n",
    "    loss=\"cross_entropy\",\n",
    "    metric=\"accuracy\",\n",
    "    callbacks=[history, pbar]\n",
    ")"
   ]
  },
  {
   "cell_type": "code",
   "execution_count": null,
   "metadata": {},
   "outputs": [],
   "source": [
    "epochs = 100\n",
    "batch_size = 4096\n",
    "\n",
    "trainer.train(X_train, y_train, epochs=epochs, batch_size=batch_size, val_data=(X_val, y_val))"
   ]
  },
  {
   "cell_type": "code",
   "execution_count": null,
   "metadata": {},
   "outputs": [],
   "source": [
    "import matplotlib.pyplot as plt\n",
    "\n",
    "history = trainer.callbacks[0]\n",
    "\n",
    "def plot_history(t1, t2):\n",
    "    trace1 = history[t1]\n",
    "    trace2 = history[t2]\n",
    "    plt.figure(figsize=(10, 3))\n",
    "    plt.plot(cp.arange(start=1, stop=len(trace1) + 1).to_numpy(), trace1, linewidth=1)\n",
    "    plt.plot(cp.arange(start=1, stop=len(trace2) + 1).to_numpy(), trace2, linewidth=1)\n",
    "    plt.legend([t1, t2])\n",
    "    plt.grid(color=\"gray\", linestyle=\"--\", linewidth=0.5)\n",
    "\n",
    "plot_history(\"loss\", \"accuracy_score\")"
   ]
  },
  {
   "cell_type": "markdown",
   "metadata": {},
   "source": [
    "### Step 6: Generate text"
   ]
  },
  {
   "cell_type": "code",
   "execution_count": null,
   "metadata": {},
   "outputs": [],
   "source": [
    "context = \"KING HENRY\"\n",
    "print(context, end=\"\")\n",
    "\n",
    "context = tokenizer.encode(context)  # encode context\n",
    "context = cp.pad(context, padding=(block_size - len(context), 0))  # fill with zeros to match context window\n",
    "context = cp.reshape(context, shape=(1, -1))\n",
    "context.to_device(model.device)\n",
    "\n",
    "for _ in range(300):\n",
    "    pred, _ = cp.nn.functional.softmax(model(context))\n",
    "    index = cp.random.multinomial(x=tokenizer.vocab_size, p=pred[0, -1], shape=(1,))\n",
    "    char = tokenizer.decode(index)\n",
    "    print(char, end=\"\")\n",
    "    context = cp.append(context, values=cp.reshape(index, shape=(1, 1)), axis=1).int()\n",
    "    context = context[:, 1:]"
   ]
  }
 ],
 "metadata": {
  "kernelspec": {
   "display_name": "Python 3",
   "language": "python",
   "name": "python3"
  },
  "language_info": {
   "codemirror_mode": {
    "name": "ipython",
    "version": 3
   },
   "file_extension": ".py",
   "mimetype": "text/x-python",
   "name": "python",
   "nbconvert_exporter": "python",
   "pygments_lexer": "ipython3",
   "version": "3.11.2"
  },
  "orig_nbformat": 4
 },
 "nbformat": 4,
 "nbformat_minor": 2
}
