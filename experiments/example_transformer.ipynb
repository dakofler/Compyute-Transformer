{
 "cells": [
  {
   "cell_type": "code",
   "execution_count": null,
   "metadata": {},
   "outputs": [],
   "source": [
    "import compyute as cp"
   ]
  },
  {
   "cell_type": "code",
   "execution_count": null,
   "metadata": {},
   "outputs": [],
   "source": [
    "device = \"cuda\" if cp.engine.gpu_available() else \"cpu\"\n",
    "device"
   ]
  },
  {
   "cell_type": "code",
   "execution_count": null,
   "metadata": {},
   "outputs": [],
   "source": [
    "cp.engine.set_cuda_tf32(True)"
   ]
  },
  {
   "cell_type": "markdown",
   "metadata": {},
   "source": [
    "# Example 5.3\n",
    "\n",
    "### Language Model: LSTM\n",
    "\n",
    "A dense neural network is not able to capture the sequential and time-dependent character of text. An alternative is the LSTM, which is able to memorize past tokens.\n",
    "\n",
    "### Step 1: Prepare data\n",
    "Again, the tinyshakespeare dataset is used. (https://raw.githubusercontent.com/karpathy/char-rnn/master/data/tinyshakespeare/input.txt)"
   ]
  },
  {
   "cell_type": "code",
   "execution_count": null,
   "metadata": {},
   "outputs": [],
   "source": [
    "with open(\"../data/tinyshakespeare.txt\", \"r\") as f:\n",
    "    data = f.read()"
   ]
  },
  {
   "cell_type": "markdown",
   "metadata": {},
   "source": [
    "### Step 2: Tokenization"
   ]
  },
  {
   "cell_type": "code",
   "execution_count": null,
   "metadata": {},
   "outputs": [],
   "source": [
    "from compyute.preprocessing.text import BPETokenizer, save_tokenizer, load_tokenizer\n",
    "\n",
    "# tokenizer = BPETokenizer()\n",
    "# tokenizer.fit(data, vocab_size=512)\n",
    "\n",
    "# save_tokenizer(tokenizer, \"nn_tokenizer.cp\")\n",
    "tokenizer = load_tokenizer(\"nn_tokenizer.cp\")\n",
    "\n",
    "tokenizer.vocab_size"
   ]
  },
  {
   "cell_type": "code",
   "execution_count": null,
   "metadata": {},
   "outputs": [],
   "source": [
    "data_enc = tokenizer.encode(data)\n",
    "len(data_enc)"
   ]
  },
  {
   "cell_type": "markdown",
   "metadata": {},
   "source": [
    "### Step 3: Build dataset"
   ]
  },
  {
   "cell_type": "code",
   "execution_count": null,
   "metadata": {},
   "outputs": [],
   "source": [
    "block_size = 128"
   ]
  },
  {
   "cell_type": "code",
   "execution_count": null,
   "metadata": {},
   "outputs": [],
   "source": [
    "X = cp.stack([data_enc[i * block_size : i * block_size + block_size] for i in range(len(data_enc) // block_size)])\n",
    "y = cp.stack([data_enc[i * block_size + 1 : i * block_size + block_size + 1] for i in range(len(data_enc) // block_size)])\n",
    "\n",
    "X, idx = cp.random.shuffle(X)\n",
    "y = y[idx]\n",
    "\n",
    "n = int(len(X) * 0.90)\n",
    "\n",
    "X_train = X.to_int()[:n]\n",
    "y_train = y.to_int()[:n]\n",
    "X_val = X.to_int()[n:]\n",
    "y_val = y.to_int()[n:]\n",
    "\n",
    "print(f\"{X_train.shape=}\")\n",
    "print(f\"{y_train.shape=}\")\n",
    "print(f\"{X_val.shape=}\")\n",
    "print(f\"{y_val.shape=}\")"
   ]
  },
  {
   "cell_type": "markdown",
   "metadata": {},
   "source": [
    "### Step 4: Build the neural network structure"
   ]
  },
  {
   "cell_type": "code",
   "execution_count": null,
   "metadata": {},
   "outputs": [],
   "source": [
    "import compyute.nn as nn\n",
    "from transformer import Transformer"
   ]
  },
  {
   "cell_type": "code",
   "execution_count": null,
   "metadata": {},
   "outputs": [],
   "source": [
    "embed_dims = 384\n",
    "mask = cp.triu(cp.full(shape=(block_size, block_size), value=float(\"-inf\")), d=1)\n",
    "\n",
    "model = Transformer(\n",
    "    n_embeddings=tokenizer.vocab_size,\n",
    "    embedding_dim=embed_dims,\n",
    "    feedforward_channels=4*embed_dims,\n",
    "    n_heads=6,\n",
    "    n_layers=6,\n",
    "    sequence_length=block_size,\n",
    "    mask=mask,\n",
    "    activation=\"gelu\"\n",
    ")\n",
    "\n",
    "model.to_device(device)"
   ]
  },
  {
   "cell_type": "code",
   "execution_count": null,
   "metadata": {},
   "outputs": [],
   "source": [
    "summary = model.get_summary(input_shape=(block_size,), input_dtype=cp.int32)\n",
    "print(summary)"
   ]
  },
  {
   "cell_type": "markdown",
   "metadata": {},
   "source": [
    "### Step 5: Train the model"
   ]
  },
  {
   "cell_type": "code",
   "execution_count": null,
   "metadata": {},
   "outputs": [],
   "source": [
    "# model = cp.nn.load_module(f\"transformer4_2000.cp\")\n",
    "# model.to_device(device)"
   ]
  },
  {
   "cell_type": "code",
   "execution_count": null,
   "metadata": {},
   "outputs": [],
   "source": [
    "batch_size = 64\n",
    "\n",
    "train_dl = nn.Dataloader(X_train, y_train, batch_size, device=device)\n",
    "val_dl = nn.Dataloader(X_val, y_val, batch_size, device=device)\n",
    "loss_func = nn.CrossEntropy()\n",
    "optim = nn.optimizers.AdamW(model.parameters, lr=6e-4)\n",
    "\n",
    "val_interval = 200\n",
    "max_iter = 5000\n",
    "checkpoint_interal = 1000\n",
    "step = 1"
   ]
  },
  {
   "cell_type": "code",
   "execution_count": null,
   "metadata": {},
   "outputs": [],
   "source": [
    "from datetime import datetime\n",
    "import os\n",
    "import time\n",
    "\n",
    "from compyute.utils.tensorboard import SummaryWriter\n",
    "\n",
    "# create tensorboard logging directory\n",
    "label = \"transformer5\"\n",
    "timestamp = datetime.now().strftime('%Y-%m-%d_%H-%M-%S')\n",
    "logdir = f\"./runs/{label}_{timestamp}/\"\n",
    "if not os.path.exists(logdir):\n",
    "    os.makedirs(logdir)\n",
    "\n",
    "with SummaryWriter(log_dir=logdir) as writer:\n",
    "    while step < max_iter:\n",
    "        for x, y in train_dl():\n",
    "            start = time.time()\n",
    "            # training\n",
    "            with model.training():\n",
    "                # forward pass\n",
    "                y_pred = model(x)\n",
    "                loss = loss_func(y_pred, y).item()\n",
    "                writer.add_scalar(\"train/loss\", loss, step)\n",
    "\n",
    "                # backward pass\n",
    "                optim.reset_grads()  # reset all gradients\n",
    "                model.backward(loss_func.backward())  # compute new gradients\n",
    "                optim.step()  # update parameters\n",
    "\n",
    "            dt = (time.time() - start) * 1000\n",
    "            writer.add_scalar(\"train/dt\", dt, step)\n",
    "\n",
    "            # validation\n",
    "            if step % val_interval == 0:\n",
    "                val_loss = 0\n",
    "                for x_val, y_val in val_dl():\n",
    "                    y_pred = model(x_val)\n",
    "                    val_loss += loss_func(y_pred, y_val).item()\n",
    "                val_loss /= len(val_dl)\n",
    "                writer.add_scalar(\"val/loss\", val_loss, step)\n",
    "\n",
    "            # save checkpoints\n",
    "            if step > 1 and step % checkpoint_interal == 0:\n",
    "                cp.nn.save_module(model, f\"{label}_{step}.cp\")\n",
    "\n",
    "            if step > max_iter:\n",
    "                break\n",
    "            step += 1"
   ]
  },
  {
   "cell_type": "markdown",
   "metadata": {},
   "source": [
    "### Step 6: Generate text"
   ]
  },
  {
   "cell_type": "code",
   "execution_count": null,
   "metadata": {},
   "outputs": [],
   "source": [
    "context = \"First citizen:\"\n",
    "print(context, end=\"\")\n",
    "\n",
    "context = tokenizer.encode(context)  # encode context\n",
    "context = cp.reshape(context, shape=(1, -1)).to_device(model.device)\n",
    "\n",
    "for _ in range(300):\n",
    "    logits = model(context)[0, -1].to_cpu()  # get logits\n",
    "    probs, _ = cp.nn.functional.softmax(logits)  # convert to probs\n",
    "    topk_probs, topk_indices = cp.topk(probs, 50)  # get top 50 probs\n",
    "    topk_probs /= cp.sum(topk_probs)  # normalize probs\n",
    "    index = cp.random.multinomial(x=50, p=topk_probs, shape=(1,))  # sample\n",
    "    index = topk_indices[index]  # get token id\n",
    "    char = tokenizer.decode(index)\n",
    "    print(char, end=\"\")\n",
    "    context = cp.append(context, values=cp.reshape(index, shape=(1, 1)), axis=1).to_int()  # append to context\n",
    "    context = context[:, -block_size:].to_device(device)"
   ]
  }
 ],
 "metadata": {
  "kernelspec": {
   "display_name": "Python 3",
   "language": "python",
   "name": "python3"
  },
  "language_info": {
   "codemirror_mode": {
    "name": "ipython",
    "version": 3
   },
   "file_extension": ".py",
   "mimetype": "text/x-python",
   "name": "python",
   "nbconvert_exporter": "python",
   "pygments_lexer": "ipython3",
   "version": "3.11.2"
  },
  "orig_nbformat": 4
 },
 "nbformat": 4,
 "nbformat_minor": 2
}
