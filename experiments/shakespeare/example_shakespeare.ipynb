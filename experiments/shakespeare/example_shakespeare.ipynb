{
 "cells": [
  {
   "cell_type": "code",
   "execution_count": null,
   "metadata": {},
   "outputs": [],
   "source": [
    "import compyute as cp"
   ]
  },
  {
   "cell_type": "code",
   "execution_count": null,
   "metadata": {},
   "outputs": [],
   "source": [
    "device = cp.cuda"
   ]
  },
  {
   "cell_type": "code",
   "execution_count": null,
   "metadata": {},
   "outputs": [],
   "source": [
    "cp.random.set_seed(1337)"
   ]
  },
  {
   "cell_type": "code",
   "execution_count": null,
   "metadata": {},
   "outputs": [],
   "source": [
    "with open(\"../../data/tinyshakespeare.txt\", \"r\") as f:\n",
    "    data = f.read()"
   ]
  },
  {
   "cell_type": "code",
   "execution_count": null,
   "metadata": {},
   "outputs": [],
   "source": [
    "from compyute.preprocessing.text import CharacterTokenizer\n",
    "\n",
    "chars = sorted(list(set(data)))\n",
    "tokenizer = CharacterTokenizer()\n",
    "tokenizer.vocab = {i:c for i, c in enumerate(chars)}\n",
    "tokenizer.ivocab = {c:i for i, c in enumerate(chars)}\n",
    "tokenizer.vocab_size"
   ]
  },
  {
   "cell_type": "code",
   "execution_count": null,
   "metadata": {},
   "outputs": [],
   "source": [
    "data_enc = tokenizer.encode(data)\n",
    "len(data_enc)"
   ]
  },
  {
   "cell_type": "code",
   "execution_count": null,
   "metadata": {},
   "outputs": [],
   "source": [
    "block_size = 256"
   ]
  },
  {
   "cell_type": "code",
   "execution_count": null,
   "metadata": {},
   "outputs": [],
   "source": [
    "data_enc = cp.tensor(data_enc, dtype=cp.int32)\n",
    "X = cp.stack([data_enc[i * block_size : i * block_size + block_size] for i in range(len(data_enc) // block_size)])\n",
    "y = cp.stack([data_enc[i * block_size + 1 : i * block_size + block_size + 1] for i in range(len(data_enc) // block_size)])\n",
    "\n",
    "n = int(len(X) * 0.9)\n",
    "X_train = X.to_int()[:n]\n",
    "y_train = y.to_int()[:n]\n",
    "X_val = X.to_int()[n:]\n",
    "y_val = y.to_int()[n:]\n",
    "\n",
    "print(f\"{X_train.shape=}\")\n",
    "print(f\"{y_train.shape=}\")\n",
    "print(f\"{X_val.shape=}\")\n",
    "print(f\"{y_val.shape=}\")"
   ]
  },
  {
   "cell_type": "code",
   "execution_count": null,
   "metadata": {},
   "outputs": [],
   "source": [
    "import compyute.nn as nn\n",
    "from transformer import Transformer, get_causal_mask"
   ]
  },
  {
   "cell_type": "code",
   "execution_count": null,
   "metadata": {},
   "outputs": [],
   "source": [
    "embed_dims = 384\n",
    "mask = get_causal_mask((block_size, block_size))\n",
    "\n",
    "model = Transformer(\n",
    "    n_embeddings=tokenizer.vocab_size,\n",
    "    embedding_dim=embed_dims,\n",
    "    ffwd_channels=4*embed_dims,\n",
    "    n_heads=6,\n",
    "    n_blocks=6,\n",
    "    max_seq_len=block_size,\n",
<<<<<<< HEAD:experiments/shakespeare/example_shakespeare.ipynb
    "    pos_enc_base=100,\n",
=======
>>>>>>> 218a326 (cleanup):experiments/example_shakespeare.ipynb
    "    mask=mask\n",
    ")\n",
    "\n",
    "model.to_device(device)"
   ]
  },
  {
   "cell_type": "code",
   "execution_count": null,
   "metadata": {},
   "outputs": [],
   "source": [
    "summary = cp.nn.utils.get_module_summary(model, input_shape=(block_size,), input_dtype=cp.int32)\n",
    "print(summary)"
   ]
  },
  {
   "cell_type": "code",
   "execution_count": null,
   "metadata": {},
   "outputs": [],
   "source": [
    "output = \"\"\n",
    "context = \"\\n\"\n",
    "print(context, end=\"\")\n",
    "\n",
    "context = cp.tensor(tokenizer.encode(context), dtype=cp.int32)  # encode context\n",
    "context = context.to_shape((1, -1)).to_device(model.device)\n",
    "\n",
    "for _ in range(500):\n",
    "    logits = model(context)[0, -1].to_cpu()  # get logits\n",
    "    probs = cp.nn.functional.softmax(logits)  # convert to probs\n",
    "    topk_probs, topk_indices = cp.topk(probs, 50)  # get top 50 probs\n",
    "    topk_probs /= topk_probs.sum()  # normalize probs\n",
    "    index = cp.random.multinomial(x=50, p=topk_probs, shape=(1,))  # sample\n",
    "    index = topk_indices[index]  # get token id\n",
    "    char = tokenizer.decode(index.to_list())\n",
    "    print(char, end=\"\")\n",
    "    output += char\n",
    "    context = cp.append(context, values=cp.tensor(index).to_shape((1, 1)), axis=1).to_int()  # append to context\n",
    "    context = context[:, -block_size:].to_device(device)\n",
    "\n",
    "with open(\"transformer_shakespeare.txt\", \"w\") as f:\n",
    "    f.write(output)"
   ]
  },
  {
   "cell_type": "code",
   "execution_count": null,
   "metadata": {},
   "outputs": [],
   "source": []
  }
 ],
 "metadata": {
  "kernelspec": {
   "display_name": "Python 3",
   "language": "python",
   "name": "python3"
  },
  "language_info": {
   "codemirror_mode": {
    "name": "ipython",
    "version": 3
   },
   "file_extension": ".py",
   "mimetype": "text/x-python",
   "name": "python",
   "nbconvert_exporter": "python",
   "pygments_lexer": "ipython3",
   "version": "3.11.0rc1"
  },
  "orig_nbformat": 4
 },
 "nbformat": 4,
 "nbformat_minor": 2
}
