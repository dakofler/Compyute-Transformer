{
 "cells": [
  {
   "cell_type": "code",
   "execution_count": null,
   "metadata": {},
   "outputs": [],
   "source": [
    "import compyute as cp\n",
    "import numpy as np\n",
    "import torch"
   ]
  },
  {
   "cell_type": "code",
   "execution_count": null,
   "metadata": {},
   "outputs": [],
   "source": [
    "B, T, C, H = 1, 5, 8, 4\n",
    "x = cp.random.uniform((B, T, C), dtype=\"float32\")\n",
    "x_torch = torch.tensor(x.to_numpy(), requires_grad=True)"
   ]
  },
  {
   "cell_type": "code",
   "execution_count": null,
   "metadata": {},
   "outputs": [],
   "source": [
    "from transformer import MultiHeadAttention\n",
    "\n",
    "mha = MultiHeadAttention(in_channels=C, n_heads=H, bias=False)"
   ]
  },
  {
   "cell_type": "code",
   "execution_count": null,
   "metadata": {},
   "outputs": [],
   "source": [
    "mha_torch = torch.nn.MultiheadAttention(C, H, bias=False, batch_first=True)\n",
    "\n",
    "# PyTorch implements MHA as a batched matrix multiplication, they therefore only have one input proj matrix containing queries, keys and values for all heads\n",
    "in_proj_weights = [\n",
    "    # queries of head 1-4\n",
    "    mha.modules[0].query.w,\n",
    "    mha.modules[1].query.w,\n",
    "    mha.modules[2].query.w,\n",
    "    mha.modules[3].query.w,\n",
    "    \n",
    "    # keys of head 1-4\n",
    "    mha.modules[0].key.w,\n",
    "    mha.modules[1].key.w,\n",
    "    mha.modules[2].key.w,\n",
    "    mha.modules[3].key.w,\n",
    "\n",
    "    # values of head 1-4\n",
    "    mha.modules[0].value.w,\n",
    "    mha.modules[1].value.w,\n",
    "    mha.modules[2].value.w,\n",
    "    mha.modules[3].value.w,\n",
    "]\n",
    "in_proj_weights = cp.concatenate(in_proj_weights, axis=0)\n",
    "out_proj_weights = mha.modules[-1].w\n",
    "\n",
    "mha_torch.in_proj_weight = torch.nn.Parameter(torch.tensor(in_proj_weights.to_numpy(), requires_grad=True))\n",
    "mha_torch.out_proj.weight = torch.nn.Parameter(torch.tensor(out_proj_weights.to_numpy(), requires_grad=True))"
   ]
  },
  {
   "cell_type": "code",
   "execution_count": null,
   "metadata": {},
   "outputs": [],
   "source": [
    "print(in_proj_weights.shape)\n",
    "print(out_proj_weights.shape)"
   ]
  },
  {
   "cell_type": "code",
   "execution_count": null,
   "metadata": {},
   "outputs": [],
   "source": [
    "print(mha_torch.in_proj_weight.shape)\n",
    "print(mha_torch.out_proj.weight.shape)"
   ]
  },
  {
   "cell_type": "code",
   "execution_count": null,
   "metadata": {},
   "outputs": [],
   "source": [
    "with mha.training():\n",
    "    out = mha(x)\n",
    "out_torch, _ = mha_torch(x_torch, x_torch, x_torch, need_weights=False)"
   ]
  },
  {
   "cell_type": "code",
   "execution_count": null,
   "metadata": {},
   "outputs": [],
   "source": [
    "tol = 1e-6"
   ]
  },
  {
   "cell_type": "code",
   "execution_count": null,
   "metadata": {},
   "outputs": [],
   "source": [
    "np.allclose(out.to_numpy(), out_torch.detach().numpy(), atol=tol, rtol=tol)"
   ]
  },
  {
   "cell_type": "code",
   "execution_count": null,
   "metadata": {},
   "outputs": [],
   "source": [
    "dy = cp.random.normal(out.shape)\n",
    "with mha.training():\n",
    "    dx = mha.backward(dy)\n",
    "out_torch.backward(torch.tensor(dy.to_numpy()))\n",
    "\n",
    "np.allclose(dx.to_numpy(), x_torch.grad.detach().numpy(), atol=tol, rtol=tol)"
   ]
  },
  {
   "cell_type": "code",
   "execution_count": null,
   "metadata": {},
   "outputs": [],
   "source": [
    "in_proj_weight_grads = [\n",
    "    # query grads of head 1-4\n",
    "    mha.modules[0].query.w.grad,\n",
    "    mha.modules[1].query.w.grad,\n",
    "    mha.modules[2].query.w.grad,\n",
    "    mha.modules[3].query.w.grad,\n",
    "\n",
    "    # key grads of head 1-4\n",
    "    mha.modules[0].key.w.grad,\n",
    "    mha.modules[1].key.w.grad,\n",
    "    mha.modules[2].key.w.grad,\n",
    "    mha.modules[3].key.w.grad,\n",
    "\n",
    "    # value grads of head 1-4\n",
    "    mha.modules[0].value.w.grad,\n",
    "    mha.modules[1].value.w.grad,\n",
    "    mha.modules[2].value.w.grad,\n",
    "    mha.modules[3].value.w.grad,\n",
    "]\n",
    "in_proj_weight_grads = cp.concatenate(in_proj_weight_grads, axis=0)\n",
    "out_proj_weight_grads = mha.modules[-1].w.grad"
   ]
  },
  {
   "cell_type": "code",
   "execution_count": null,
   "metadata": {},
   "outputs": [],
   "source": [
    "np.allclose(in_proj_weight_grads.to_numpy(), mha_torch.in_proj_weight.grad.detach().numpy(), atol=tol, rtol=tol)"
   ]
  },
  {
   "cell_type": "code",
   "execution_count": null,
   "metadata": {},
   "outputs": [],
   "source": [
    "np.allclose(out_proj_weight_grads.to_numpy(), mha_torch.out_proj.weight.grad.detach().numpy(), atol=tol, rtol=tol)"
   ]
  },
  {
   "cell_type": "code",
   "execution_count": null,
   "metadata": {},
   "outputs": [],
   "source": []
  }
 ],
 "metadata": {
  "kernelspec": {
   "display_name": "Python 3",
   "language": "python",
   "name": "python3"
  },
  "language_info": {
   "codemirror_mode": {
    "name": "ipython",
    "version": 3
   },
   "file_extension": ".py",
   "mimetype": "text/x-python",
   "name": "python",
   "nbconvert_exporter": "python",
   "pygments_lexer": "ipython3",
   "version": "3.11.2"
  },
  "orig_nbformat": 4
 },
 "nbformat": 4,
 "nbformat_minor": 2
}
