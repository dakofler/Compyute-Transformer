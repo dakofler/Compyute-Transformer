{
 "cells": [
  {
   "cell_type": "code",
   "execution_count": 14,
   "metadata": {},
   "outputs": [],
   "source": [
    "import compyute as cp\n",
    "import numpy as np\n",
    "import torch"
   ]
  },
  {
   "cell_type": "code",
   "execution_count": 15,
   "metadata": {},
   "outputs": [],
   "source": [
    "B, T, C, H = 1, 5, 8, 4\n",
    "x = cp.random.uniform((B, T, C), dtype=cp.float32)\n",
    "x_torch = torch.tensor(x.to_numpy(), requires_grad=True)"
   ]
  },
  {
   "cell_type": "code",
   "execution_count": 16,
   "metadata": {},
   "outputs": [],
   "source": [
    "from transformer import MultiHeadAttention\n",
    "\n",
    "mha = MultiHeadAttention(in_channels=C, n_heads=H)"
   ]
  },
  {
   "cell_type": "code",
   "execution_count": 17,
   "metadata": {},
   "outputs": [],
   "source": [
    "mha_torch = torch.nn.MultiheadAttention(C, H, bias=False, batch_first=True)\n",
    "\n",
    "# PyTorch implements MHA as a batched matrix multiplication, they therefore only have one\n",
    "# input proj matrix containing queries, keys and values for all heads\n",
    "in_proj_weights = [\n",
    "    mha.query_proj.w,\n",
    "    mha.key_proj.w,\n",
    "    mha.value_proj.w\n",
    "]\n",
    "in_proj_weights = cp.concatenate(in_proj_weights, axis=0)\n",
    "out_proj_weights = mha.modules[-1].w\n",
    "\n",
    "mha_torch.in_proj_weight = torch.nn.Parameter(torch.tensor(in_proj_weights.to_numpy()))\n",
    "mha_torch.out_proj.weight = torch.nn.Parameter(torch.tensor(out_proj_weights.to_numpy()))"
   ]
  },
  {
   "cell_type": "code",
   "execution_count": 18,
   "metadata": {},
   "outputs": [
    {
     "name": "stdout",
     "output_type": "stream",
     "text": [
      "(24, 8)\n",
      "(8, 8)\n"
     ]
    }
   ],
   "source": [
    "print(in_proj_weights.shape)\n",
    "print(out_proj_weights.shape)"
   ]
  },
  {
   "cell_type": "code",
   "execution_count": 19,
   "metadata": {},
   "outputs": [
    {
     "name": "stdout",
     "output_type": "stream",
     "text": [
      "torch.Size([24, 8])\n",
      "torch.Size([8, 8])\n"
     ]
    }
   ],
   "source": [
    "print(mha_torch.in_proj_weight.shape)\n",
    "print(mha_torch.out_proj.weight.shape)"
   ]
  },
  {
   "cell_type": "code",
   "execution_count": 20,
   "metadata": {},
   "outputs": [],
   "source": [
    "with mha.train():\n",
    "    out = mha(x)\n",
    "out_torch, _ = mha_torch(x_torch, x_torch, x_torch, need_weights=False)"
   ]
  },
  {
   "cell_type": "code",
   "execution_count": 21,
   "metadata": {},
   "outputs": [],
   "source": [
    "tol = 1e-6"
   ]
  },
  {
   "cell_type": "code",
   "execution_count": 22,
   "metadata": {},
   "outputs": [
    {
     "data": {
      "text/plain": [
       "True"
      ]
     },
     "execution_count": 22,
     "metadata": {},
     "output_type": "execute_result"
    }
   ],
   "source": [
    "np.allclose(\n",
    "    out.to_numpy(),\n",
    "    out_torch.detach().numpy(),\n",
    "    atol=tol,\n",
    "    rtol=tol\n",
    ")"
   ]
  },
  {
   "cell_type": "code",
   "execution_count": 23,
   "metadata": {},
   "outputs": [
    {
     "data": {
      "text/plain": [
       "True"
      ]
     },
     "execution_count": 23,
     "metadata": {},
     "output_type": "execute_result"
    }
   ],
   "source": [
    "dy = cp.random.normal(out.shape)\n",
    "with mha.train():\n",
    "    dx = mha.backward(dy)\n",
    "out_torch.backward(torch.tensor(dy.to_numpy()))\n",
    "\n",
    "np.allclose(\n",
    "    dx.to_numpy(),\n",
    "    x_torch.grad.detach().numpy(),\n",
    "    atol=tol,\n",
    "    rtol=tol\n",
    ")"
   ]
  },
  {
   "cell_type": "code",
   "execution_count": 24,
   "metadata": {},
   "outputs": [],
   "source": [
    "in_proj_weight_grads = [\n",
    "    mha.query_proj.w.grad,\n",
    "    mha.key_proj.w.grad,\n",
    "    mha.value_proj.w.grad,\n",
    "]\n",
    "in_proj_weight_grads = cp.concatenate(in_proj_weight_grads, axis=0)\n",
    "out_proj_weight_grads = mha.modules[-1].w.grad"
   ]
  },
  {
   "cell_type": "code",
   "execution_count": 25,
   "metadata": {},
   "outputs": [
    {
     "data": {
      "text/plain": [
       "True"
      ]
     },
     "execution_count": 25,
     "metadata": {},
     "output_type": "execute_result"
    }
   ],
   "source": [
    "np.allclose(\n",
    "    in_proj_weight_grads.to_numpy(),\n",
    "    mha_torch.in_proj_weight.grad.detach().numpy(),\n",
    "    atol=tol,\n",
    "    rtol=tol\n",
    ")"
   ]
  },
  {
   "cell_type": "code",
   "execution_count": 26,
   "metadata": {},
   "outputs": [
    {
     "data": {
      "text/plain": [
       "True"
      ]
     },
     "execution_count": 26,
     "metadata": {},
     "output_type": "execute_result"
    }
   ],
   "source": [
    "np.allclose(\n",
    "    out_proj_weight_grads.to_numpy(),\n",
    "    mha_torch.out_proj.weight.grad.detach().numpy(),\n",
    "    atol=tol,\n",
    "    rtol=tol\n",
    ")"
   ]
  },
  {
   "cell_type": "code",
   "execution_count": null,
   "metadata": {},
   "outputs": [],
   "source": []
  }
 ],
 "metadata": {
  "kernelspec": {
   "display_name": "Python 3",
   "language": "python",
   "name": "python3"
  },
  "language_info": {
   "codemirror_mode": {
    "name": "ipython",
    "version": 3
   },
   "file_extension": ".py",
   "mimetype": "text/x-python",
   "name": "python",
   "nbconvert_exporter": "python",
   "pygments_lexer": "ipython3",
   "version": "3.11.2"
  },
  "orig_nbformat": 4
 },
 "nbformat": 4,
 "nbformat_minor": 2
}
