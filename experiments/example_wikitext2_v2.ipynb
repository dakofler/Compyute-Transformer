{
 "cells": [
  {
   "cell_type": "code",
   "execution_count": null,
   "metadata": {},
   "outputs": [],
   "source": [
    "import compyute as cp"
   ]
  },
  {
   "cell_type": "code",
   "execution_count": null,
   "metadata": {},
   "outputs": [],
   "source": [
    "device = \"cuda\" if cp.engine.gpu_available() else \"cpu\"\n",
    "device"
   ]
  },
  {
   "cell_type": "code",
   "execution_count": null,
   "metadata": {},
   "outputs": [],
   "source": [
    "cp.engine.set_cuda_tf32(True)\n",
    "cp.random.set_seed(42)"
   ]
  },
  {
   "cell_type": "code",
   "execution_count": null,
   "metadata": {},
   "outputs": [],
   "source": [
    "from datasets import load_dataset\n",
    "\n",
    "dataset = load_dataset(path=\"Salesforce/wikitext\", name=\"wikitext-2-v1\")\n",
    "dataset"
   ]
  },
  {
   "cell_type": "code",
   "execution_count": null,
   "metadata": {},
   "outputs": [],
   "source": [
    "def get_training_corpus():\n",
    "    for i in range(0, len(dataset), 1000):\n",
    "        yield dataset[\"train\"][i : i + 1000][\"text\"]"
   ]
  },
  {
   "cell_type": "code",
   "execution_count": null,
   "metadata": {},
   "outputs": [],
   "source": [
    "from tokenizers import (\n",
    "    models,\n",
    "    normalizers,\n",
    "    pre_tokenizers,\n",
    "    trainers,\n",
    "    Tokenizer,\n",
    ")\n",
    "import os\n",
    "\n",
    "file = \"tokenizer.json\"\n",
    "\n",
    "if not os.path.exists(file):\n",
    "    tokenizer = Tokenizer(models.WordPiece(unk_token=\"[UNK]\", max_input_chars_per_word=1000000000))\n",
    "    tokenizer.normalizer = normalizers.Sequence([normalizers.NFD(), normalizers.Lowercase(), normalizers.StripAccents()])\n",
    "    pre_tokenizer = pre_tokenizers.Sequence([pre_tokenizers.WhitespaceSplit(), pre_tokenizers.Punctuation()])\n",
    "    special_tokens = [\"[UNK]\", \"[PAD]\", \"[CLS]\", \"[SEP]\", \"[MASK]\"]\n",
    "    trainer = trainers.WordPieceTrainer(vocab_size=8192, special_tokens=special_tokens, continuing_subword_prefix=\"\")\n",
    "    tokenizer.train_from_iterator(get_training_corpus(), trainer=trainer)\n",
    "    tokenizer.save(\"tokenizer.json\")\n",
    "else:\n",
    "    tokenizer = Tokenizer.from_file(\"tokenizer.json\")"
   ]
  },
  {
   "cell_type": "code",
   "execution_count": null,
   "metadata": {},
   "outputs": [],
   "source": [
    "def encode(split):\n",
    "    lines = dataset[split][\"text\"]\n",
    "    encodings = tokenizer.encode_batch(lines)\n",
    "    token_id_lists = [encoding.ids for encoding in encodings]\n",
    "    token_ids = [token_id for token_id_list in token_id_lists for token_id in token_id_list]\n",
    "\n",
    "    return cp.tensor(token_ids).to_int()"
   ]
  },
  {
   "cell_type": "code",
   "execution_count": null,
   "metadata": {},
   "outputs": [],
   "source": [
    "train_data_enc = encode(\"train\")\n",
    "val_data_enc = encode(\"validation\")"
   ]
  },
  {
   "cell_type": "code",
   "execution_count": null,
   "metadata": {},
   "outputs": [],
   "source": [
    "len(train_data_enc)"
   ]
  },
  {
   "cell_type": "code",
   "execution_count": null,
   "metadata": {},
   "outputs": [],
   "source": [
    "block_size = 256"
   ]
  },
  {
   "cell_type": "code",
   "execution_count": null,
   "metadata": {},
   "outputs": [],
   "source": [
    "X_train = cp.stack([train_data_enc[i * block_size : i * block_size + block_size] for i in range(len(train_data_enc) // block_size)])\n",
    "y_train = cp.stack([train_data_enc[i * block_size + 1 : i * block_size + block_size + 1] for i in range(len(train_data_enc) // block_size)])\n",
    "\n",
    "X_val = cp.stack([val_data_enc[i * block_size : i * block_size + block_size] for i in range(len(val_data_enc) // block_size)])\n",
    "y_val = cp.stack([val_data_enc[i * block_size + 1 : i * block_size + block_size + 1] for i in range(len(val_data_enc) // block_size)])\n",
    "\n",
    "print(f\"{X_train.shape=}\")\n",
    "print(f\"{y_train.shape=}\")\n",
    "print(f\"{X_val.shape=}\")\n",
    "print(f\"{y_val.shape=}\")"
   ]
  },
  {
   "cell_type": "code",
   "execution_count": null,
   "metadata": {},
   "outputs": [],
   "source": [
    "import compyute.nn as nn\n",
    "from transformer import Transformer, get_causal_mask"
   ]
  },
  {
   "cell_type": "code",
   "execution_count": null,
   "metadata": {},
   "outputs": [],
   "source": [
    "embed_dims = 384\n",
    "mask = get_causal_mask((block_size, block_size))\n",
    "\n",
    "model = Transformer(\n",
    "    n_embeddings=tokenizer.get_vocab_size(),\n",
    "    embedding_dim=embed_dims,\n",
    "    feedforward_channels=4*embed_dims,\n",
    "    n_heads=6,\n",
    "    n_blocks=6,\n",
    "    sequence_length=block_size,\n",
    "    mask=mask,\n",
    "    activation=\"gelu\"\n",
    ")\n",
    "\n",
    "model.to_device(device)"
   ]
  },
  {
   "cell_type": "code",
   "execution_count": null,
   "metadata": {},
   "outputs": [],
   "source": [
    "summary = cp.nn.utils.get_module_summary(model, input_shape=(block_size,), input_dtype=cp.int32)\n",
    "print(summary)"
   ]
  },
  {
   "cell_type": "code",
   "execution_count": null,
   "metadata": {},
   "outputs": [],
   "source": [
    "batch_size = 64\n",
    "micro_batch_size = 16\n",
    "grad_accumulation_steps = batch_size // micro_batch_size\n",
    "\n",
    "train_dl = nn.utils.Dataloader(X_train, y_train, micro_batch_size, device=device)\n",
    "val_dl = nn.utils.Dataloader(X_val, y_val, micro_batch_size, device=device)\n",
    "loss_func = nn.CrossEntropy()\n",
    "optim = nn.optimizers.AdamW(model.get_parameters(), lr=6e-4)\n",
    "scheduler = nn.utils.lr_schedulers.CosineLrScheduler(optim, target_lr=3e-5, warmup_steps=125, decay_steps=1125)"
   ]
  },
  {
   "cell_type": "code",
   "execution_count": null,
   "metadata": {},
   "outputs": [],
   "source": [
    "val_interval = 50\n",
    "checkpoint_interal = 250\n",
    "step = 0"
   ]
  },
  {
   "cell_type": "code",
   "execution_count": null,
   "metadata": {},
   "outputs": [],
   "source": [
    "from datetime import datetime\n",
    "import os\n",
    "\n",
    "from compyute.nn.utils.tensorboard import SummaryWriter\n",
    "\n",
    "max_iter = 2500\n",
    "\n",
    "# create tensorboard logging directory\n",
    "label = \"transformer_wikitext_2_v2\"\n",
    "timestamp = datetime.now().strftime('%Y-%m-%d_%H-%M-%S')\n",
    "logdir = f\"./runs/{label}_{timestamp}/\"\n",
    "if not os.path.exists(logdir):\n",
    "    os.makedirs(logdir)\n",
    "\n",
    "writer =  SummaryWriter(log_dir=logdir)\n",
    "while step < max_iter:\n",
    "    loss = 0\n",
    "    accum_step = 0\n",
    "\n",
    "    for x, y in train_dl():\n",
    "        accum_step += 1\n",
    "        \n",
    "        # training\n",
    "        with model.train():\n",
    "            # forward pass\n",
    "            y_pred = model(x)\n",
    "            loss += loss_func(y_pred, y).item() / grad_accumulation_steps\n",
    "\n",
    "            # backward pass\n",
    "            loss_grads = loss_func.backward() / grad_accumulation_steps # scale by grad accumulation steps\n",
    "            model.backward(loss_grads)  # compute new gradients\n",
    "        \n",
    "        if accum_step == 4:\n",
    "            grad_norm = cp.nn.utils.clip_grad_norm(model.get_parameters(), 1.0)  # clip gradients\n",
    "            scheduler.step()\n",
    "            optim.step()  # update parameters\n",
    "            optim.reset_grads()  # reset all gradients\n",
    "            \n",
    "            writer.add_scalar(\"train/loss\", loss, step)\n",
    "            writer.add_scalar(\"train/grad_norm\", grad_norm, step)\n",
    "            writer.add_scalar(\"train/lr\", optim.lr, step)\n",
    "            accum_step = 0\n",
    "            step+= 1\n",
    "            loss = 0\n",
    "\n",
    "        # validation\n",
    "        if step > 1 and step % val_interval == 0:\n",
    "            val_loss = 0\n",
    "            for x_val, y_val in val_dl():\n",
    "                y_pred = model(x_val)\n",
    "                val_loss += loss_func(y_pred, y_val).item()\n",
    "            val_loss /= len(val_dl)\n",
    "            writer.add_scalar(\"val/loss\", val_loss, step)\n",
    "\n",
    "        # save checkpoints\n",
    "        if step > 1 and step % checkpoint_interal == 0:\n",
    "            model_state = model.get_state_dict()\n",
    "            optim_state = optim.get_state_dict()\n",
    "            cp.save({\"model\": model_state, \"optim\": optim_state}, f\"{label}_{step}.cp\")\n",
    "\n",
    "        if step == max_iter:\n",
    "            break"
   ]
  },
  {
   "cell_type": "code",
   "execution_count": null,
   "metadata": {},
   "outputs": [],
   "source": [
    "state = {\n",
    "    \"model\": model.get_state_dict(),\n",
    "    \"optim\": optim.get_state_dict(),\n",
    "    \"step\": step\n",
    "}\n",
    "cp.save(state, f\"{label}_{step}.cp\")"
   ]
  },
  {
   "cell_type": "code",
   "execution_count": null,
   "metadata": {},
   "outputs": [],
   "source": [
    "context = \"The most common disease is\"\n",
    "print(context, end=\"\")\n",
    "\n",
    "context = cp.tensor(tokenizer.encode(context).ids, dtype=cp.int32)  # encode context\n",
    "context = context.to_shape((1, -1)).to_device(model.device)\n",
    "\n",
    "for _ in range(300):\n",
    "    logits = model(context)[0, -1].to_cpu()  # get logits\n",
    "    probs, _ = cp.nn.functional.softmax(logits)  # convert to probs\n",
    "    topk_probs, topk_indices = cp.topk(probs, 50)  # get top 50 probs\n",
    "    topk_probs /= cp.sum(topk_probs)  # normalize probs\n",
    "    index = cp.random.multinomial(x=50, p=topk_probs, shape=(1,))  # sample\n",
    "    index = topk_indices[index]  # get token id\n",
    "    char = tokenizer.decode([index.item()])\n",
    "    print(char, end=\"\")\n",
    "    context = cp.append(context, values=cp.reshape(index, shape=(1, 1)), axis=1).to_int()  # append to context\n",
    "    context = context[:, -block_size:].to_device(device)"
   ]
  },
  {
   "cell_type": "code",
   "execution_count": null,
   "metadata": {},
   "outputs": [],
   "source": []
  }
 ],
 "metadata": {
  "kernelspec": {
   "display_name": "Python 3",
   "language": "python",
   "name": "python3"
  },
  "language_info": {
   "codemirror_mode": {
    "name": "ipython",
    "version": 3
   },
   "file_extension": ".py",
   "mimetype": "text/x-python",
   "name": "python",
   "nbconvert_exporter": "python",
   "pygments_lexer": "ipython3",
   "version": "3.11.2"
  },
  "orig_nbformat": 4
 },
 "nbformat": 4,
 "nbformat_minor": 2
}
