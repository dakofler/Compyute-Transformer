{
 "cells": [
  {
   "cell_type": "code",
   "execution_count": null,
   "metadata": {},
   "outputs": [],
   "source": [
    "import compyute as cp"
   ]
  },
  {
   "cell_type": "code",
   "execution_count": null,
   "metadata": {},
   "outputs": [],
   "source": [
    "from tokenizers import Tokenizer\n",
    "\n",
    "tokenizer = Tokenizer.from_file(\"../tokenizer.json\")"
   ]
  },
  {
   "cell_type": "code",
   "execution_count": null,
   "metadata": {},
   "outputs": [],
   "source": [
    "vocab_size = 8192\n",
    "block_size = 1024\n",
    "embed_dims = 384\n",
    "device = cp.cuda"
   ]
  },
  {
   "cell_type": "code",
   "execution_count": null,
   "metadata": {},
   "outputs": [],
   "source": [
    "from gpt_transformer import GPTTransformer\n",
    "from attention_s import get_causal_mask\n",
    "\n",
    "mask = get_causal_mask((block_size, block_size))\n",
    "\n",
    "model = GPTTransformer(\n",
    "    n_embeddings=vocab_size,\n",
    "    embedding_dim=embed_dims,\n",
    "    ffwd_channels=4 * embed_dims,\n",
    "    n_heads=6,\n",
    "    n_blocks=6,\n",
    "    max_seq_len=block_size,\n",
    "    mask=mask,\n",
    ")\n",
    "model.to_device(device)\n",
    "state_dict = cp.load(\"../transformer_wikitext_1_2500.cp\")\n",
    "model.load_state_dict(state_dict[\"model\"])"
   ]
  },
  {
   "cell_type": "code",
   "execution_count": null,
   "metadata": {},
   "outputs": [],
   "source": [
    "context = \"Hi, I am \"\n",
    "print(context, end=\"\")\n",
    "\n",
    "context = cp.tensor(tokenizer.encode(context).ids, dtype=cp.int32)  # encode context\n",
    "context = context.to_shape((1, -1)).to_device(model.device)\n",
    "\n",
    "for _ in range(300):\n",
    "    logits = model(context)[0, -1].to_cpu()  # get logits\n",
    "    probs = cp.nn.functional.softmax(logits)  # convert to probs\n",
    "    topk_probs, topk_indices = cp.topk(probs, 50)  # get top 50 probs\n",
    "    topk_probs /= cp.sum(topk_probs)  # normalize probs\n",
    "    index = cp.random.multinomial(x=50, p=topk_probs, shape=(1,))  # sample\n",
    "    index = topk_indices[index]  # get token id\n",
    "    char = tokenizer.decode([index.item()])\n",
    "    print(char, end=\"\")\n",
    "    context = cp.append(context, values=cp.reshape(index, shape=(1, 1)), axis=1).to_int()  # append to context\n",
    "    context = context[:, -block_size:].to_device(device)"
   ]
  }
 ],
 "metadata": {
  "kernelspec": {
   "display_name": ".venv",
   "language": "python",
   "name": "python3"
  },
  "language_info": {
   "codemirror_mode": {
    "name": "ipython",
    "version": 3
   },
   "file_extension": ".py",
   "mimetype": "text/x-python",
   "name": "python",
   "nbconvert_exporter": "python",
   "pygments_lexer": "ipython3",
   "version": "3.11.0"
  }
 },
 "nbformat": 4,
 "nbformat_minor": 2
}
