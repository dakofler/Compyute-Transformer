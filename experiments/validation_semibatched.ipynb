{
 "cells": [
  {
   "cell_type": "code",
   "execution_count": null,
   "metadata": {},
   "outputs": [],
   "source": [
    "import compyute as cp\n",
    "import numpy as np\n",
    "import torch"
   ]
  },
  {
   "cell_type": "code",
   "execution_count": null,
   "metadata": {},
   "outputs": [],
   "source": [
    "cp.random.set_seed(42)"
   ]
  },
  {
   "cell_type": "code",
   "execution_count": null,
   "metadata": {},
   "outputs": [],
   "source": [
    "# B, T, C, H = 16, 256, 384, 6\n",
    "B, T, C, H = 1, 4, 8, 1\n",
    "x = cp.random.uniform((B, T, C), dtype=cp.float32)\n",
    "x_torch = torch.tensor(x.to_numpy(), requires_grad=True)"
   ]
  },
  {
   "cell_type": "code",
   "execution_count": null,
   "metadata": {},
   "outputs": [],
   "source": [
    "from mha_semibatched import MultiHeadAttention\n",
    "\n",
    "mha = MultiHeadAttention(in_channels=C, n_heads=H, bias=False)"
   ]
  },
  {
   "cell_type": "code",
   "execution_count": null,
   "metadata": {},
   "outputs": [],
   "source": [
    "mha_torch = torch.nn.MultiheadAttention(C, H, bias=False, batch_first=True)\n",
    "\n",
    "# PyTorch implements MHA as a batched matrix multiplication, they therefore only have one\n",
    "# input proj matrix containing queries, keys and values for all heads\n",
    "in_proj_weights = cp.concat([mha.q_proj.w, mha.k_proj.w, mha.v_proj.w], dim=0)\n",
    "out_proj_weights = mha.out_proj.w\n",
    "\n",
    "mha_torch.in_proj_weight = torch.nn.Parameter(torch.tensor(in_proj_weights.to_numpy()))\n",
    "mha_torch.out_proj.weight = torch.nn.Parameter(torch.tensor(out_proj_weights.to_numpy()))"
   ]
  },
  {
   "cell_type": "code",
   "execution_count": null,
   "metadata": {},
   "outputs": [],
   "source": [
    "out = mha(x)\n",
    "out_torch, _ = mha_torch(x_torch, x_torch, x_torch, need_weights=False)"
   ]
  },
  {
   "cell_type": "code",
   "execution_count": null,
   "metadata": {},
   "outputs": [],
   "source": [
    "tol = 1e-5 # stacking floating point errors due to lots of computation"
   ]
  },
  {
   "cell_type": "code",
   "execution_count": null,
   "metadata": {},
   "outputs": [],
   "source": [
    "np.allclose(\n",
    "    out.to_numpy(),\n",
    "    out_torch.detach().numpy(),\n",
    "    atol=tol,\n",
    "    rtol=tol\n",
    ")"
   ]
  },
  {
   "cell_type": "code",
   "execution_count": null,
   "metadata": {},
   "outputs": [],
   "source": [
    "dy = cp.random.normal(out.shape)\n",
    "dx = mha.backward(dy)\n",
    "out_torch.backward(torch.tensor(dy.to_numpy()))"
   ]
  },
  {
   "cell_type": "code",
   "execution_count": null,
   "metadata": {},
   "outputs": [],
   "source": [
    "np.allclose(\n",
    "    dx.to_numpy(),\n",
    "    x_torch.grad.detach().numpy(),\n",
    "    atol=tol,\n",
    "    rtol=tol\n",
    ")"
   ]
  },
  {
   "cell_type": "code",
   "execution_count": null,
   "metadata": {},
   "outputs": [],
   "source": [
    "in_proj_weight_grads = cp.concat([mha.q_proj.w.grad, mha.k_proj.w.grad, mha.v_proj.w.grad], dim=0)\n",
    "out_proj_weight_grads = mha.out_proj.w.grad"
   ]
  },
  {
   "cell_type": "code",
   "execution_count": null,
   "metadata": {},
   "outputs": [],
   "source": [
    "np.allclose(\n",
    "    in_proj_weight_grads.to_numpy(),\n",
    "    mha_torch.in_proj_weight.grad.detach().numpy(),\n",
    "    atol=tol,\n",
    "    rtol=tol\n",
    ")"
   ]
  },
  {
   "cell_type": "code",
   "execution_count": null,
   "metadata": {},
   "outputs": [],
   "source": [
    "np.allclose(\n",
    "    out_proj_weight_grads.to_numpy(),\n",
    "    mha_torch.out_proj.weight.grad.detach().numpy(),\n",
    "    atol=tol,\n",
    "    rtol=tol\n",
    ")"
   ]
  }
 ],
 "metadata": {
  "kernelspec": {
   "display_name": "Python 3",
   "language": "python",
   "name": "python3"
  },
  "language_info": {
   "codemirror_mode": {
    "name": "ipython",
    "version": 3
   },
   "file_extension": ".py",
   "mimetype": "text/x-python",
   "name": "python",
   "nbconvert_exporter": "python",
   "pygments_lexer": "ipython3",
   "version": "3.12.6"
  },
  "orig_nbformat": 4
 },
 "nbformat": 4,
 "nbformat_minor": 2
}
