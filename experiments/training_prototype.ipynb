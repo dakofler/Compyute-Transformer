{
 "cells": [
  {
   "cell_type": "code",
   "execution_count": null,
   "metadata": {},
   "outputs": [],
   "source": [
    "import compyute as cp"
   ]
  },
  {
   "cell_type": "code",
   "execution_count": null,
   "metadata": {},
   "outputs": [],
   "source": [
    "device = cp.cuda"
   ]
  },
  {
   "cell_type": "code",
   "execution_count": null,
   "metadata": {},
   "outputs": [],
   "source": [
    "with open(\"../data/tinyshakespeare.txt\", \"r\") as f:\n",
    "    data = f.read()"
   ]
  },
  {
   "cell_type": "code",
   "execution_count": null,
   "metadata": {},
   "outputs": [],
   "source": [
    "from compyute.preprocessing.text import CharacterTokenizer\n",
    "\n",
    "chars = sorted(list(set(data)))\n",
    "tokenizer = CharacterTokenizer()\n",
    "tokenizer.vocab = {i:c for i, c in enumerate(chars)}\n",
    "tokenizer.ivocab = {c:i for i, c in enumerate(chars)}\n",
    "data_enc = tokenizer.encode(data)"
   ]
  },
  {
   "cell_type": "code",
   "execution_count": null,
   "metadata": {},
   "outputs": [],
   "source": [
    "block_size = 256"
   ]
  },
  {
   "cell_type": "code",
   "execution_count": null,
   "metadata": {},
   "outputs": [],
   "source": [
    "X = cp.stack([data_enc[i * block_size : i * block_size + block_size] for i in range(len(data_enc) // block_size)])\n",
    "y = cp.stack([data_enc[i * block_size + 1 : i * block_size + block_size + 1] for i in range(len(data_enc) // block_size)])\n",
    "\n",
    "n = int(len(X) * 0.9)\n",
    "X_train = X.to_int()[:n]\n",
    "y_train = y.to_int()[:n]\n",
    "X_val = X.to_int()[n:]\n",
    "y_val = y.to_int()[n:]\n",
    "\n",
    "print(f\"{X_train.shape=}\")\n",
    "print(f\"{y_train.shape=}\")\n",
    "print(f\"{X_val.shape=}\")\n",
    "print(f\"{y_val.shape=}\")"
   ]
  },
  {
   "cell_type": "code",
   "execution_count": null,
   "metadata": {},
   "outputs": [],
   "source": [
    "import compyute.nn as nn\n",
    "from transformer import Transformer, get_causal_mask"
   ]
  },
  {
   "cell_type": "code",
   "execution_count": null,
   "metadata": {},
   "outputs": [],
   "source": [
    "embed_dims = 384\n",
    "mask = get_causal_mask((block_size, block_size))\n",
    "\n",
    "model = Transformer(\n",
    "    n_embeddings=tokenizer.vocab_size,\n",
    "    embedding_dim=embed_dims,\n",
    "    feedforward_channels=4*embed_dims,\n",
    "    n_heads=6,\n",
    "    n_blocks=6,\n",
    "    sequence_length=block_size,\n",
    "    mask=mask\n",
    ")\n",
    "\n",
    "model.to_device(device)"
   ]
  },
  {
   "cell_type": "code",
   "execution_count": null,
   "metadata": {},
   "outputs": [],
   "source": [
    "summary = cp.nn.utils.get_module_summary(model, input_shape=(block_size,), input_dtype=cp.int32)\n",
    "print(summary)"
   ]
  },
  {
   "cell_type": "code",
   "execution_count": null,
   "metadata": {},
   "outputs": [],
   "source": [
    "batch_size = 32\n",
    "\n",
    "val_interval = 200\n",
    "checkpoint_interal = 500\n",
    "\n",
    "train_dl = nn.utils.Dataloader(X_train, y_train, batch_size, device=device)\n",
    "val_dl = nn.utils.Dataloader(X_val, y_val, batch_size, device=device)\n",
    "loss_func = nn.CrossEntropy()\n",
    "optim = nn.optimizers.AdamW(model.get_parameters(), lr=3e-4, beta1=0.9, beta2=0.95)"
   ]
  },
  {
   "cell_type": "code",
   "execution_count": null,
   "metadata": {},
   "outputs": [],
   "source": [
    "max_iter = 1000"
   ]
  },
  {
   "cell_type": "code",
   "execution_count": null,
   "metadata": {},
   "outputs": [],
   "source": [
    "import time\n",
    "\n",
    "step = 1\n",
    "while step < max_iter:\n",
    "    for x, y in train_dl():\n",
    "        start = time.time()\n",
    "\n",
    "        with model.train():\n",
    "            loss = loss_func(model(x), y).item()\n",
    "            model.backward(loss_func.backward())\n",
    "                \n",
    "        optim.step()  # update parameters\n",
    "        optim.reset_grads()  # reset all gradients\n",
    "\n",
    "        dt = time.time() - start\n",
    "\n",
    "        # validation\n",
    "        if step > 1 and step % val_interval == 0:\n",
    "            val_loss = 0\n",
    "            for x_val, y_val in val_dl():\n",
    "                y_pred = model(x_val)\n",
    "                val_loss += loss_func(y_pred, y_val).item()\n",
    "            val_loss /= len(val_dl)\n",
    "\n",
    "        if step == max_iter:\n",
    "            break\n",
    "        step+= 1\n",
    "\n",
    "        print(f\"step {step:4} | loss {loss:.4f} | dt {dt:.4f} s\")"
   ]
  }
 ],
 "metadata": {
  "kernelspec": {
   "display_name": "Python 3",
   "language": "python",
   "name": "python3"
  },
  "language_info": {
   "codemirror_mode": {
    "name": "ipython",
    "version": 3
   },
   "file_extension": ".py",
   "mimetype": "text/x-python",
   "name": "python",
   "nbconvert_exporter": "python",
   "pygments_lexer": "ipython3",
   "version": "3.11.2"
  },
  "orig_nbformat": 4
 },
 "nbformat": 4,
 "nbformat_minor": 2
}
