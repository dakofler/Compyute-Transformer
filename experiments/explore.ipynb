{
 "cells": [
  {
   "cell_type": "code",
   "execution_count": null,
   "metadata": {},
   "outputs": [],
   "source": [
    "import compyute as cp"
   ]
  },
  {
   "cell_type": "code",
   "execution_count": null,
   "metadata": {},
   "outputs": [],
   "source": [
    "from compyute.preprocessing.text import CharacterTokenizer\n",
    "\n",
    "with open(\"../data/tinyshakespeare.txt\", \"r\") as f:\n",
    "    data = f.read()\n",
    "\n",
    "chars = sorted(list(set(data)))\n",
    "tokenizer = CharacterTokenizer()\n",
    "tokenizer.vocab = {i:c for i, c in enumerate(chars)}\n",
    "tokenizer.ivocab = {c:i for i, c in enumerate(chars)}"
   ]
  },
  {
   "cell_type": "code",
   "execution_count": null,
   "metadata": {},
   "outputs": [],
   "source": [
    "from transformer import get_causal_mask, Transformer\n",
    "\n",
    "mask = get_causal_mask((256, 256))\n",
    "\n",
    "model = Transformer(\n",
    "    n_embeddings=tokenizer.vocab_size,\n",
    "    embedding_dim=384,\n",
    "    ffwd_channels=4*384,\n",
    "    n_heads=6,\n",
    "    n_blocks=6,\n",
    "    max_seq_len=256,\n",
    "    mask=mask\n",
    ")\n",
    "model.to_device(cp.cuda)\n",
    "\n",
    "optim = cp.nn.optimizers.AdamW(model.get_parameters(), lr=3e-4)\n",
    "\n",
    "state_dict = cp.load(\"shakespeare/transformer_shakespeare_5000.cp\")\n",
    "model.load_state_dict(state_dict[\"model\"])\n",
    "optim.load_state_dict(state_dict[\"optim\"])"
   ]
  },
  {
   "cell_type": "code",
   "execution_count": null,
   "metadata": {},
   "outputs": [],
   "source": [
    "from sklearn.manifold import TSNE\n",
    "import matplotlib.pyplot as plt\n",
    "\n",
    "# get numpy array of embedding table\n",
    "embs = model.token_emb.w.to_cpu()\n",
    "\n",
    "# reduce dimensions to 2 to make\n",
    "tsne = TSNE(random_state=0).fit_transform(embs)\n",
    "\n",
    "# plot results\n",
    "plt.figure(figsize=(8, 8))\n",
    "plt.scatter(x=tsne[:,0], y=tsne[:,1], s=100)\n",
    "for i in range(len(tsne)):\n",
    "    char = tokenizer.decode(cp.tensor([i]))\n",
    "    plt.text(x=tsne[i,0], y=tsne[i,1], s=char, ha=\"center\", va=\"center\", color=\"white\")\n",
    "plt.grid(linestyle=\"dashed\", linewidth=0.5)"
   ]
  },
  {
   "cell_type": "code",
   "execution_count": null,
   "metadata": {},
   "outputs": [],
   "source": [
    "import matplotlib.pyplot as plt\n",
    "from transformer import  PositionalEncoding\n",
    "\n",
    "pe = PositionalEncoding(256, 384, 1e2)\n",
    "\n",
    "plt.imshow(pe.encodings.squeeze(), cmap=\"grey\")"
   ]
  }
 ],
 "metadata": {
  "kernelspec": {
   "display_name": ".venv",
   "language": "python",
   "name": "python3"
  },
  "language_info": {
   "codemirror_mode": {
    "name": "ipython",
    "version": 3
   },
   "file_extension": ".py",
   "mimetype": "text/x-python",
   "name": "python",
   "nbconvert_exporter": "python",
   "pygments_lexer": "ipython3",
   "version": "3.11.2"
  }
 },
 "nbformat": 4,
 "nbformat_minor": 2
}
