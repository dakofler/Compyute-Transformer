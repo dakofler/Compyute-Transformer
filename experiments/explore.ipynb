{
 "cells": [
  {
   "cell_type": "code",
   "execution_count": null,
   "metadata": {},
   "outputs": [],
   "source": [
    "import compyute as cp"
   ]
  },
  {
   "cell_type": "code",
   "execution_count": null,
   "metadata": {},
   "outputs": [],
   "source": [
    "# import matplotlib.pyplot as plt\n",
    "# from transformer_s import  PositionalEncoding\n",
    "\n",
    "# pe = PositionalEncoding(256, 384, 1e2)\n",
    "\n",
    "# plt.imshow(pe.encodings.squeeze(), cmap=\"grey\")"
   ]
  },
  {
   "cell_type": "code",
   "execution_count": null,
   "metadata": {},
   "outputs": [],
   "source": [
    "from compyute.preprocessing.text import CharacterTokenizer\n",
    "\n",
    "with open(\"../data/tinyshakespeare.txt\", \"r\") as f:\n",
    "    data = f.read()\n",
    "\n",
    "chars = sorted(list(set(data)))\n",
    "tokenizer = CharacterTokenizer()\n",
    "tokenizer.vocab = {i:c for i, c in enumerate(chars)}\n",
    "tokenizer.ivocab = {c:i for i, c in enumerate(chars)}"
   ]
  },
  {
   "cell_type": "code",
   "execution_count": null,
   "metadata": {},
   "outputs": [],
   "source": [
    "from transformer_s import get_causal_mask, Transformer\n",
    "\n",
    "mask = get_causal_mask((256, 256))\n",
    "\n",
    "model = Transformer(\n",
    "    n_embeddings=tokenizer.vocab_size,\n",
    "    embedding_dim=384,\n",
    "    ffwd_channels=4*384,\n",
    "    n_heads=6,\n",
    "    n_blocks=6,\n",
    "    max_seq_len=256,\n",
    "    mask=mask\n",
    ")\n",
    "\n",
    "model.to_device(cp.cuda)\n",
    "state_dict = cp.load(\"../transformer_shakespeare_test_10.cp\")\n",
    "model.load_state_dict(state_dict[\"model\"])"
   ]
  },
  {
   "cell_type": "code",
   "execution_count": null,
   "metadata": {},
   "outputs": [],
   "source": [
    "# from sklearn.manifold import TSNE\n",
    "# import matplotlib.pyplot as plt\n",
    "\n",
    "# # get numpy array of embedding table\n",
    "# embs = model.token_emb.w.to_cpu()\n",
    "\n",
    "# # reduce dimensions to 2 to make\n",
    "# tsne = TSNE(random_state=0).fit_transform(embs.data)\n",
    "\n",
    "# # plot results\n",
    "# plt.figure(figsize=(8, 8))\n",
    "# plt.scatter(x=tsne[:,0], y=tsne[:,1], s=100)\n",
    "# for i in range(len(tsne)):\n",
    "#     char = tokenizer.decode(cp.tensor([i]))\n",
    "#     plt.text(x=tsne[i,0], y=tsne[i,1], s=char, ha=\"center\", va=\"center\", color=\"white\")\n",
    "# plt.grid(linestyle=\"dashed\", linewidth=0.5)"
   ]
  },
  {
   "cell_type": "code",
   "execution_count": null,
   "metadata": {},
   "outputs": [],
   "source": [
    "output = \"\"\n",
    "context = \"\\n\"\n",
    "print(context, end=\"\")\n",
    "\n",
    "context = tokenizer.encode(context)  # encode context\n",
    "context = cp.tensor(context, cp.cuda, cp.int32).to_shape((1, -1))  # insert batch dim\n",
    "\n",
    "for _ in range(500):\n",
    "    logits = model(context)[0, -1].to_cpu()  # get logits of last token\n",
    "    probs = cp.nn.functional.softmax(logits)  # convert to probs\n",
    "    topk_probs, topk_indices = cp.topk(probs, 50)  # get top 50 probs\n",
    "    topk_probs /= topk_probs.sum()  # normalize probs\n",
    "    index = cp.random.multinomial(x=50, p=topk_probs, shape=(1,))  # sample\n",
    "    index = topk_indices[index]  # get token id\n",
    "    char = tokenizer.decode(index.to_list())\n",
    "    output += char\n",
    "\n",
    "    print(char, end=\"\")\n",
    "    \n",
    "    index = index.to_shape((1, 1))\n",
    "    context = cp.append(context[:, 1:], values=index, axis=1).to_int()  # append to previous context\n",
    "\n",
    "# with open(\"transformer_shakespeare.txt\", \"w\") as f:\n",
    "#     f.write(output)"
   ]
  }
 ],
 "metadata": {
  "kernelspec": {
   "display_name": ".venv",
   "language": "python",
   "name": "python3"
  },
  "language_info": {
   "codemirror_mode": {
    "name": "ipython",
    "version": 3
   },
   "file_extension": ".py",
   "mimetype": "text/x-python",
   "name": "python",
   "nbconvert_exporter": "python",
   "pygments_lexer": "ipython3",
   "version": "3.11.0rc1"
  }
 },
 "nbformat": 4,
 "nbformat_minor": 2
}
