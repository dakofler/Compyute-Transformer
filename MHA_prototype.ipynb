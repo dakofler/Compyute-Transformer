{
 "cells": [
  {
   "cell_type": "code",
   "execution_count": null,
   "metadata": {},
   "outputs": [],
   "source": [
    "from typing import Optional\n",
    "\n",
    "import numpy as np\n",
    "\n",
    "import compyute as cp\n",
    "from compyute.nn import Container, ParallelConcat, Linear, Sequential, Dropout, ReLU, SkipConnection, Layernorm, Embedding\n",
    "from compyute.nn.functional import softmax\n",
    "from compyute.dtypes import _DtypeLike\n",
    "from compyute.base_tensor import Tensor\n",
    "\n",
    "\n",
    "class MultiHeadAttention(Sequential):\n",
    "    def __init__(\n",
    "        self,\n",
    "        embedding_dim: int,\n",
    "        n_heads: int,\n",
    "        mask: Optional[Tensor] = None,\n",
    "        dropout: Optional[float] = None,\n",
    "        bias: bool = False,\n",
    "        dtype: _DtypeLike = \"float32\"\n",
    "    ) -> None:\n",
    "        layers = [\n",
    "            ParallelConcat(*[\n",
    "                AttentionHead(\n",
    "                    embedding_dim=embedding_dim,\n",
    "                    head_size=embedding_dim // n_heads,\n",
    "                    mask=mask,\n",
    "                    dropout=dropout,\n",
    "                    bias=bias,\n",
    "                    dtype=dtype\n",
    "                ) for _ in range(n_heads)\n",
    "            ], label=\"Heads\"),\n",
    "            Linear(embedding_dim, embedding_dim, bias, dtype, label=\"OutProjection\")\n",
    "        ]\n",
    "        layers += [Dropout(p=dropout)] if dropout is not None else []\n",
    "        super().__init__(*layers)\n",
    "\n",
    "\n",
    "class AttentionHead(Container):\n",
    "    def __init__(\n",
    "        self,\n",
    "        embedding_dim: int,\n",
    "        head_size: int,\n",
    "        mask: Optional[Tensor] = None,\n",
    "        dropout: Optional[float] = None,\n",
    "        bias: bool = False,\n",
    "        dtype: _DtypeLike = \"float32\"\n",
    "    ) -> None:\n",
    "        super().__init__()\n",
    "        self.q = Linear(embedding_dim, head_size, bias, dtype, label=\"QueryProjection\")\n",
    "        self.k = Linear(embedding_dim, head_size, bias, dtype, label=\"KeyProjection\")\n",
    "        self.v = Linear(embedding_dim, head_size, bias, dtype, label=\"ValueProjection\")\n",
    "        self.dropout = Dropout(p=dropout) if dropout else None\n",
    "        self.head_size = head_size\n",
    "        self.mask = mask\n",
    "        self.dtype = dtype\n",
    "\n",
    "    def forward(self, x: cp.Tensor) -> cp.Tensor:\n",
    "        # input projections\n",
    "        q = self.q(x)\n",
    "        k = self.k(x)\n",
    "        v = self.v(x)\n",
    "\n",
    "        # attention\n",
    "        qk = q @ k.T * self.head_size**-0.5\n",
    "        if self.mask is not None:\n",
    "            qk += self.mask\n",
    "        sm, sm_backward = softmax(qk, self._training)\n",
    "        if self.dropout is not None:\n",
    "            sm = self.dropout(sm)\n",
    "        y = sm @ v\n",
    "\n",
    "        if self.training:\n",
    "\n",
    "            def _backward(dy: cp.Tensor) -> cp.Tensor:\n",
    "                dy = dy.as_type(self.dtype)\n",
    "\n",
    "                dsm = dy @ v.T\n",
    "\n",
    "                if self.dropout is not None:\n",
    "                    dsm = self.dropout.backward(dsm)\n",
    "\n",
    "                dqk = sm_backward(dsm) * self.head_size**-0.5\n",
    "                dq = self.q.backward(dqk @ k)\n",
    "                dk = self.k.backward(dqk.T @ q)\n",
    "                dv = self.v.backward(sm.T @ dy)\n",
    "\n",
    "                return dq + dk + dv\n",
    "            \n",
    "            self._backward = _backward\n",
    "\n",
    "        return y      "
   ]
  },
  {
   "cell_type": "code",
   "execution_count": null,
   "metadata": {},
   "outputs": [],
   "source": [
    "B, T, C, H = 1, 5, 8, 4\n",
    "x = cp.random.uniform((B, T, C), dtype=\"float32\")"
   ]
  },
  {
   "cell_type": "code",
   "execution_count": null,
   "metadata": {},
   "outputs": [],
   "source": [
    "mha = MultiHeadAttention(embedding_dim=C, n_heads=H)\n",
    "mha.set_training(True)"
   ]
  },
  {
   "cell_type": "code",
   "execution_count": null,
   "metadata": {},
   "outputs": [],
   "source": [
    "import torch\n",
    "\n",
    "mha_torch = torch.nn.MultiheadAttention(C, H, bias=False, batch_first=True)\n",
    "\n",
    "in_proj_weights = [\n",
    "    mha.modules[0].modules[0].q.w,\n",
    "    mha.modules[0].modules[1].q.w,\n",
    "    mha.modules[0].modules[2].q.w,\n",
    "    mha.modules[0].modules[3].q.w,\n",
    "    \n",
    "    mha.modules[0].modules[0].k.w,\n",
    "    mha.modules[0].modules[1].k.w,\n",
    "    mha.modules[0].modules[2].k.w,\n",
    "    mha.modules[0].modules[3].k.w,\n",
    "\n",
    "    mha.modules[0].modules[0].v.w,\n",
    "    mha.modules[0].modules[1].v.w,\n",
    "    mha.modules[0].modules[2].v.w,\n",
    "    mha.modules[0].modules[3].v.w,\n",
    "]\n",
    "in_proj_weights = cp.concatenate(in_proj_weights, axis=0)\n",
    "out_proj_weights = mha.modules[1].w\n",
    "\n",
    "mha_torch.in_proj_weight = torch.nn.Parameter(torch.tensor(in_proj_weights.to_numpy(), requires_grad=True))\n",
    "mha_torch.out_proj.weight = torch.nn.Parameter(torch.tensor(out_proj_weights.to_numpy(), requires_grad=True))"
   ]
  },
  {
   "cell_type": "code",
   "execution_count": null,
   "metadata": {},
   "outputs": [],
   "source": [
    "print(in_proj_weights.shape)\n",
    "print(out_proj_weights.shape)"
   ]
  },
  {
   "cell_type": "code",
   "execution_count": null,
   "metadata": {},
   "outputs": [],
   "source": [
    "print(mha_torch.in_proj_weight.shape)\n",
    "print(mha_torch.out_proj.weight.shape)"
   ]
  },
  {
   "cell_type": "code",
   "execution_count": null,
   "metadata": {},
   "outputs": [],
   "source": [
    "out = mha(x)\n",
    "x_torch = torch.tensor(x.to_numpy(), requires_grad=True)\n",
    "out_torch, _ = mha_torch(x_torch, x_torch, x_torch, need_weights=False)"
   ]
  },
  {
   "cell_type": "code",
   "execution_count": null,
   "metadata": {},
   "outputs": [],
   "source": [
    "tol = 1e-6"
   ]
  },
  {
   "cell_type": "code",
   "execution_count": null,
   "metadata": {},
   "outputs": [],
   "source": [
    "np.allclose(out.to_numpy(), out_torch.detach().numpy(), atol=tol, rtol=tol)"
   ]
  },
  {
   "cell_type": "code",
   "execution_count": null,
   "metadata": {},
   "outputs": [],
   "source": [
    "dy = cp.random.normal(out.shape)\n",
    "dx = mha.backward(dy)\n",
    "out_torch.backward(torch.tensor(dy.to_numpy()))\n",
    "\n",
    "np.allclose(dx.to_numpy(), x_torch.grad.detach().numpy(), atol=tol, rtol=tol)"
   ]
  },
  {
   "cell_type": "code",
   "execution_count": null,
   "metadata": {},
   "outputs": [],
   "source": [
    "in_proj_weight_grads = [\n",
    "    mha.modules[0].modules[0].q.w.grad,\n",
    "    mha.modules[0].modules[1].q.w.grad,\n",
    "    mha.modules[0].modules[2].q.w.grad,\n",
    "    mha.modules[0].modules[3].q.w.grad,\n",
    "\n",
    "    mha.modules[0].modules[0].k.w.grad,\n",
    "    mha.modules[0].modules[1].k.w.grad,\n",
    "    mha.modules[0].modules[2].k.w.grad,\n",
    "    mha.modules[0].modules[3].k.w.grad,\n",
    "\n",
    "    mha.modules[0].modules[0].v.w.grad,\n",
    "    mha.modules[0].modules[1].v.w.grad,\n",
    "    mha.modules[0].modules[2].v.w.grad,\n",
    "    mha.modules[0].modules[3].v.w.grad,\n",
    "]\n",
    "in_proj_weight_grads = cp.concatenate(in_proj_weight_grads, axis=0)\n",
    "out_proj_weight_grads = mha.modules[1].w.grad"
   ]
  },
  {
   "cell_type": "code",
   "execution_count": null,
   "metadata": {},
   "outputs": [],
   "source": [
    "np.allclose(in_proj_weight_grads.to_numpy(), mha_torch.in_proj_weight.grad.detach().numpy(), atol=tol, rtol=tol)"
   ]
  },
  {
   "cell_type": "code",
   "execution_count": null,
   "metadata": {},
   "outputs": [],
   "source": [
    "np.allclose(out_proj_weight_grads.to_numpy(), mha_torch.out_proj.weight.grad.detach().numpy(), atol=tol, rtol=tol)"
   ]
  }
 ],
 "metadata": {
  "kernelspec": {
   "display_name": "Python 3",
   "language": "python",
   "name": "python3"
  },
  "language_info": {
   "codemirror_mode": {
    "name": "ipython",
    "version": 3
   },
   "file_extension": ".py",
   "mimetype": "text/x-python",
   "name": "python",
   "nbconvert_exporter": "python",
   "pygments_lexer": "ipython3",
   "version": "3.11.2"
  },
  "orig_nbformat": 4
 },
 "nbformat": 4,
 "nbformat_minor": 2
}
