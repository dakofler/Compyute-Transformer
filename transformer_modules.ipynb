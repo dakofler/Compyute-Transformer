{
 "cells": [
  {
   "cell_type": "code",
   "execution_count": null,
   "metadata": {},
   "outputs": [],
   "source": [
    "import compyute as cp\n",
    "from transformer import Transformer"
   ]
  },
  {
   "cell_type": "code",
   "execution_count": null,
   "metadata": {},
   "outputs": [],
   "source": [
    "B, T = 64, 128\n",
    "x = cp.random.uniform_int((B, T), 0, 100)"
   ]
  },
  {
   "cell_type": "code",
   "execution_count": null,
   "metadata": {},
   "outputs": [],
   "source": [
    "mask = cp.triu(cp.full(shape=(T, T), value=float(\"-inf\")), d=1)\n",
    "mask_ = mask.cuda()"
   ]
  },
  {
   "cell_type": "code",
   "execution_count": null,
   "metadata": {},
   "outputs": [],
   "source": [
    "t = Transformer(\n",
    "    vocab_size=100,\n",
    "    emb_dim=384,\n",
    "    ffd_dim=4*384,\n",
    "    n_heads=6,\n",
    "    n_layers=6,\n",
    "    sequence_length=T,\n",
    "    mask=mask_,\n",
    "    dropout=0.2\n",
    ")\n",
    "\n",
    "t.to_device(\"cuda\")"
   ]
  },
  {
   "cell_type": "code",
   "execution_count": null,
   "metadata": {},
   "outputs": [],
   "source": [
    "t.summary(input_shape=(T,), input_dtype=\"int32\")"
   ]
  },
  {
   "cell_type": "code",
   "execution_count": null,
   "metadata": {},
   "outputs": [],
   "source": [
    "x_ = x.cuda()\n",
    "with t.training():\n",
    "    out = t(x_)\n",
    "out"
   ]
  },
  {
   "cell_type": "code",
   "execution_count": null,
   "metadata": {},
   "outputs": [],
   "source": [
    "dy = cp.random.normal(shape=out.shape, device=\"cuda\")\n",
    "with t.training():\n",
    "    t.backward(dy)"
   ]
  }
 ],
 "metadata": {
  "kernelspec": {
   "display_name": "Python 3",
   "language": "python",
   "name": "python3"
  },
  "language_info": {
   "codemirror_mode": {
    "name": "ipython",
    "version": 3
   },
   "file_extension": ".py",
   "mimetype": "text/x-python",
   "name": "python",
   "nbconvert_exporter": "python",
   "pygments_lexer": "ipython3",
   "version": "3.11.2"
  },
  "orig_nbformat": 4
 },
 "nbformat": 4,
 "nbformat_minor": 2
}
